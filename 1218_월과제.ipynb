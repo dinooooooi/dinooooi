{
  "nbformat": 4,
  "nbformat_minor": 0,
  "metadata": {
    "colab": {
      "provenance": [],
      "authorship_tag": "ABX9TyPnLAQv3eyh+T4EeLQwhcjv",
      "include_colab_link": true
    },
    "kernelspec": {
      "name": "python3",
      "display_name": "Python 3"
    },
    "language_info": {
      "name": "python"
    }
  },
  "cells": [
    {
      "cell_type": "markdown",
      "metadata": {
        "id": "view-in-github",
        "colab_type": "text"
      },
      "source": [
        "<a href=\"https://colab.research.google.com/github/dinooooooi/dinooooi/blob/main/1218_%EC%9B%94%EA%B3%BC%EC%A0%9C.ipynb\" target=\"_parent\"><img src=\"https://colab.research.google.com/assets/colab-badge.svg\" alt=\"Open In Colab\"/></a>"
      ]
    },
    {
      "cell_type": "markdown",
      "source": [
        "##03.평균 이동\n",
        "\n",
        "###평균이동의 개요\n",
        "\n",
        ": k-평균과 유사하게 중심을 군집의 중심으로 지속적으로 움직이면서 군집화 수행/ 중심- 데이터가 모여 있는 밀도가 가장 높은 곳\n",
        "\n",
        "확률 밀도 함수로 군집 중심점 찾음 KDE(Kernel Density Estimation) 이용\n",
        "\n",
        "주변 데이터와의 거리 값을 KDE 함수 값으로 입력한 뒤 그 반환 값을 현재 위치에서 업데이트하면서 이동하는 방식\n",
        "\n",
        "커널 함수를 통해 어떤 변수의 확률 밀도 함수를 추정하는 방법, 개별 관측 데이터에 커널 함수(가우시안 분포 함수)로 적용한 뒤 이 적용 값을 모두 더한 후 개별 관측 데이터의 건수로 나눠 확률 밀도 함수 추정\n",
        "\n",
        "\n",
        "커널함수의 h 대여폭은 부드러운 형태로 평활화함 작으면 좁고 뾰족한 KDE - 과적합/ 크면 과소적합\n",
        "\n",
        "\n",
        "확률 밀도함수 PDF = 확률 변수의 분포 나타냄 변수의 특성, 확률 분포 등 변수의 많은 요소 알 수 있음\n",
        "\n",
        "최적의 대여폭 계산을 위해 estimate_bandwidth()함수"
      ],
      "metadata": {
        "id": "ltmANcvr2IIe"
      }
    },
    {
      "cell_type": "code",
      "execution_count": 1,
      "metadata": {
        "colab": {
          "base_uri": "https://localhost:8080/"
        },
        "id": "KYc6fzCw2DKN",
        "outputId": "d10b7d40-308a-4c57-8a21-3b05b60d88b5"
      },
      "outputs": [
        {
          "output_type": "stream",
          "name": "stdout",
          "text": [
            "cluster labels 유형: [0 1 2 3 4 5]\n"
          ]
        }
      ],
      "source": [
        "import numpy as np\n",
        "from sklearn.datasets import make_blobs\n",
        "from sklearn.cluster import MeanShift\n",
        "\n",
        "X,y = make_blobs(n_samples=200, n_features=2, centers=3, cluster_std=0.7, random_state=0)\n",
        "\n",
        "meanshift = MeanShift(bandwidth=0.8)\n",
        "cluster_labels = meanshift.fit_predict(X)\n",
        "print('cluster labels 유형:', np.unique(cluster_labels))"
      ]
    },
    {
      "cell_type": "code",
      "source": [
        "#1.0으로 높여서 meanshift 수행\n",
        "meanshift = MeanShift(bandwidth=1)\n",
        "cluster_labels = meanshift.fit_predict(X)\n",
        "print('cluster labels 유형:', np.unique(cluster_labels))"
      ],
      "metadata": {
        "colab": {
          "base_uri": "https://localhost:8080/"
        },
        "id": "66AsCtMz6FUK",
        "outputId": "ff44f0ff-3989-4469-a22a-b5c2354b2233"
      },
      "execution_count": 2,
      "outputs": [
        {
          "output_type": "stream",
          "name": "stdout",
          "text": [
            "cluster labels 유형: [0 1 2]\n"
          ]
        }
      ]
    },
    {
      "cell_type": "code",
      "source": [
        "from sklearn.cluster import estimate_bandwidth\n",
        "\n",
        "bandwidth = estimate_bandwidth(X)\n",
        "print('bandwidth 값:', round(bandwidth,3))"
      ],
      "metadata": {
        "colab": {
          "base_uri": "https://localhost:8080/"
        },
        "id": "Jr39b5R36ZWL",
        "outputId": "efe7776d-021f-4353-a58c-6ceafd51c056"
      },
      "execution_count": 3,
      "outputs": [
        {
          "output_type": "stream",
          "name": "stdout",
          "text": [
            "bandwidth 값: 1.816\n"
          ]
        }
      ]
    },
    {
      "cell_type": "code",
      "source": [
        "#1.816으로 군집화 수행\n",
        "import pandas as pd\n",
        "clusterDF = pd.DataFrame(data=X, columns=['ftr1', 'ftr2'])\n",
        "clusterDF['target'] = y\n",
        "\n",
        "#estimate_bandwidth()로 최적의 bandwidth 계산\n",
        "best_bandwidth = estimate_bandwidth(X)\n",
        "\n",
        "meanshift = MeanShift(bandwidth=best_bandwidth)\n",
        "cluster_labels = meanshift.fit_predict(X)\n",
        "print('cluster labels유형:', np.unique(cluster_labels))"
      ],
      "metadata": {
        "colab": {
          "base_uri": "https://localhost:8080/"
        },
        "id": "1j8va-HE6xUu",
        "outputId": "9e170d89-ddf1-4286-9133-16e9dbe1a43e"
      },
      "execution_count": 4,
      "outputs": [
        {
          "output_type": "stream",
          "name": "stdout",
          "text": [
            "cluster labels유형: [0 1 2]\n"
          ]
        }
      ]
    },
    {
      "cell_type": "code",
      "source": [
        "import matplotlib.pyplot as plt\n",
        "%matplotlib inline\n",
        "\n",
        "clusterDF['meanshift_label']=cluster_labels\n",
        "centers = meanshift.cluster_centers_\n",
        "unique_labels = np.unique(cluster_labels)\n",
        "markers=['o', 's', '^', 'x', '*']\n",
        "\n",
        "for label in unique_labels:\n",
        "  label_cluster = clusterDF[clusterDF['meanshift_label']==label]\n",
        "  center_x_y = centers[label]\n",
        "\n",
        "  #군집별로 다른 마커로 산점도 적용\n",
        "  plt.scatter(x=label_cluster['ftr1'], y=label_cluster['ftr2'], edgecolor='k', marker=markers[label])\n",
        "\n",
        "  #군집별 중심 표현\n",
        "  plt.scatter(x=center_x_y[0], y=center_x_y[1], s=200, color='gray', alpha=0.9, marker=markers[label])\n",
        "  plt.scatter(x=center_x_y[0], y=center_x_y[1], s=70, color='k', edgecolor='k', marker='$%d$' % label)\n",
        "\n",
        "plt.show()"
      ],
      "metadata": {
        "colab": {
          "base_uri": "https://localhost:8080/",
          "height": 435
        },
        "id": "qxZ1WXRn7n5y",
        "outputId": "5e2cfc91-8842-492d-f37b-2089a9d7cbc9"
      },
      "execution_count": 5,
      "outputs": [
        {
          "output_type": "display_data",
          "data": {
            "text/plain": [
              "<Figure size 640x480 with 1 Axes>"
            ],
            "image/png": "[encoded data removed]"
          },
          "metadata": {}
        }
      ]
    },
    {
      "cell_type": "code",
      "source": [
        "print(clusterDF.groupby('target')['meanshift_label'].value_counts())"
      ],
      "metadata": {
        "colab": {
          "base_uri": "https://localhost:8080/"
        },
        "id": "z6KqlCJD9i5W",
        "outputId": "382cb5b2-1ec1-4f6b-a503-3293492fc01d"
      },
      "execution_count": 6,
      "outputs": [
        {
          "output_type": "stream",
          "name": "stdout",
          "text": [
            "target  meanshift_label\n",
            "0       0                  67\n",
            "1       1                  67\n",
            "2       2                  66\n",
            "Name: meanshift_label, dtype: int64\n"
          ]
        }
      ]
    },
    {
      "cell_type": "markdown",
      "source": [
        "데이터 세트의 형태를 특정 형태로 가정하고 특정 분포도 기반의 모델로 가정하지 않기 때문에 좀 더 유연한 군집화 가능, 이상치의 영향력 크지 않고 미리 군집의 개수 정할 필요 없음\n",
        "\n",
        "수행 시간 오래 걸리고 bandwidth 크기에 따른 군집화 영향도가 큼 -> 컴퓨터 비전 영역에서 많이 사용, 이미지 영상 데이터에서 뛰어난 역할 수행"
      ],
      "metadata": {
        "id": "vwImM5Gl9uGd"
      }
    },
    {
      "cell_type": "markdown",
      "source": [
        "##GMM\n",
        "\n",
        "###GMM 소개\n",
        "\n",
        "GMM군집화는 군집화를 적용하고자 하는 데이터가 여러 개의 가우시안 분포를 가진 데이터 집합들이 섞여서 생성된 것이라는 가정 하에 군집화를 수행\n",
        "\n",
        "가우시안 분포 = 좌우 대칭형의 종 형태를 가진 연속 확률 함수 / 정규 분포\n",
        "\n",
        "GMM은 여러 개의 가우시안 분포가 섞인 데이터, 여러 개의 정규 분포 곡선을 추출하고 개별 데이터가 어떤 정규 분포에 속하는지 결정하는 방식 = 모수추정(개별 정규 분포의 평균과 분산, 각 데이터가 어떤 정규 분포에 해당되는지의 확률) -EM방법 적용\n",
        "\n",
        "### GMM을 이용한 붓꽃 데이터 세트 군집화\n",
        "\n",
        "확률 기반 군집화\n",
        "\n"
      ],
      "metadata": {
        "id": "sLzldHFF-Ky2"
      }
    },
    {
      "cell_type": "code",
      "source": [
        "from ast import increment_lineno\n",
        "from sklearn.datasets import load_iris\n",
        "from sklearn.cluster import KMeans\n",
        "\n",
        "import matplotlib.pyplot as plt\n",
        "import numpy as np\n",
        "import pandas as pd\n",
        "%matplotlib inline\n",
        "iris = load_iris()\n",
        "feature_names = ['sepal_length', 'sepal_width', 'petal_length', 'petal_width']\n",
        "\n",
        "#좀 더 편리한 데이터 handling을 위해 DataFrame으로 변환\n",
        "irisDF = pd.DataFrame(data=iris.data, columns=feature_names)\n",
        "irisDF['target']=iris.target"
      ],
      "metadata": {
        "id": "k9wdqNYt_YG0"
      },
      "execution_count": 8,
      "outputs": []
    },
    {
      "cell_type": "code",
      "source": [
        "#n_components 초기화 파라미터를 3으로 설정해 GaussianMixture 군집화 수행\n",
        "#GaussianMixture 객체의 fit와 predict를 수행해 군집 결정한 뒤 irisDF DataFrame에 'gmm_cluster'칼럼 명으로 저장"
      ],
      "metadata": {
        "id": "93AKuelFAGNL"
      },
      "execution_count": 10,
      "outputs": []
    },
    {
      "cell_type": "code",
      "source": [
        "from sklearn.mixture import GaussianMixture\n",
        "\n",
        "gmm = GaussianMixture(n_components=3, random_state=0).fit(iris.data)\n",
        "gmm_cluster_labels = gmm.predict(iris.data)\n",
        "\n",
        "#군집화 결과를 irisDF의 'gmm_cluster' 칼럼 명으로 저장\n",
        "irisDF['gmm_cluster']=gmm_cluster_labels\n",
        "irisDF['target']=iris.target\n",
        "\n",
        "#target값에 따라 gmm_cluster 값이 어떻게 매핑됐는지 확인\n",
        "iris_result = irisDF.groupby(['target'])['gmm_cluster'].value_counts()\n",
        "print(iris_result)"
      ],
      "metadata": {
        "colab": {
          "base_uri": "https://localhost:8080/"
        },
        "id": "qFpL3AuABEHM",
        "outputId": "c499a75e-ec9a-4cfd-b620-a4b53f0c5534"
      },
      "execution_count": 9,
      "outputs": [
        {
          "output_type": "stream",
          "name": "stdout",
          "text": [
            "target  gmm_cluster\n",
            "0       0              50\n",
            "1       2              45\n",
            "        1               5\n",
            "2       1              50\n",
            "Name: gmm_cluster, dtype: int64\n"
          ]
        }
      ]
    },
    {
      "cell_type": "code",
      "source": [
        "#k-평균 군집화 수행\n",
        "kmeans = KMeans(n_clusters=3, init='k-means++', max_iter=300, random_state=0).fit(iris.data)\n",
        "kmeans_cluster_labels = kmeans.predict(iris.data)\n",
        "irisDF['kmeans_cluster']=kmeans_cluster_labels\n",
        "iris_result = irisDF.groupby(['target'])['kmeans_cluster'].value_counts()\n",
        "print(iris_result)"
      ],
      "metadata": {
        "colab": {
          "base_uri": "https://localhost:8080/"
        },
        "id": "OeNOyGRkB3jW",
        "outputId": "9a9366b2-179d-4882-8a18-4a0339805556"
      },
      "execution_count": 12,
      "outputs": [
        {
          "output_type": "stream",
          "name": "stdout",
          "text": [
            "target  kmeans_cluster\n",
            "0       1                 50\n",
            "1       0                 48\n",
            "        2                  2\n",
            "2       2                 36\n",
            "        0                 14\n",
            "Name: kmeans_cluster, dtype: int64\n"
          ]
        },
        {
          "output_type": "stream",
          "name": "stderr",
          "text": [
            "/usr/local/lib/python3.10/dist-packages/sklearn/cluster/_kmeans.py:870: FutureWarning: The default value of `n_init` will change from 10 to 'auto' in 1.4. Set the value of `n_init` explicitly to suppress the warning\n",
            "  warnings.warn(\n"
          ]
        }
      ]
    },
    {
      "cell_type": "markdown",
      "source": [
        "##GMM과 K-평균의 비교\n",
        "\n",
        "kmeans는 원형의 범위에서 군집화 수행\n",
        "원형의 범위를 가질수록 kmeans의 군집화 효율이 높아짐\n",
        "\n",
        "데이터가 원형의 범위로 퍼져있지 않는 경우에 make_blobs의 데이터를 변환해 만듦"
      ],
      "metadata": {
        "id": "hdbtuShoDC5E"
      }
    },
    {
      "cell_type": "code",
      "source": [
        "from sklearn.datasets import make_blobs\n",
        "#make_blobs()로 300개의 데이터 세트, 3개의 군집 세트, cluster_std=0.5를 만듦\n",
        "X,y = make_blobs(n_samples=300, n_features=2, centers=3, cluster_std=0.5, random_state=0)\n",
        "\n",
        "#길게 늘어난 타원형의 데이터 세트를 세트를 생성하기 위해 변환함\n",
        "transformation = [[0.60834549, -0.63667341], [-0.40887718, 0.85253229]]\n",
        "X_aniso = np.dot(X, transformation)\n",
        "#feature 데이터 세트와 make_blobs()의 y결과값을 DataFrame으로 저장\n",
        "clusterDF = pd.DataFrame(data=X_aniso, columns=['ftr1', 'ftr2'])\n",
        "clusterDF['target']=y\n",
        "#생성된 데이터 세트를 target별로 다른 마커로 표시해 시각화함\n",
        "#visualize_cluster_plot(None, clusterDF, 'target', iscenter=False)"
      ],
      "metadata": {
        "id": "e69ahX8nDB1V"
      },
      "execution_count": 17,
      "outputs": []
    },
    {
      "cell_type": "code",
      "source": [
        "#3개의 군집 기반 Kmeans를 X_aniso 데이터 세트에 적용\n",
        "kmeans = KMeans(3, random_state=0)\n",
        "kmeans_label = kmeans.fit_predict(X_aniso)\n",
        "clusterDF['kmeans_label'] = kmeans_label\n",
        "#visualize_cluster_plot(kmeans, clusterDF, 'kmeans_label', iscluster=True)"
      ],
      "metadata": {
        "colab": {
          "base_uri": "https://localhost:8080/"
        },
        "id": "2fvJIV6KFqOj",
        "outputId": "bdd89a4e-7d2a-4fb1-c99a-8f961ec8e80d"
      },
      "execution_count": 18,
      "outputs": [
        {
          "output_type": "stream",
          "name": "stderr",
          "text": [
            "/usr/local/lib/python3.10/dist-packages/sklearn/cluster/_kmeans.py:870: FutureWarning: The default value of `n_init` will change from 10 to 'auto' in 1.4. Set the value of `n_init` explicitly to suppress the warning\n",
            "  warnings.warn(\n"
          ]
        }
      ]
    },
    {
      "cell_type": "code",
      "source": [
        "#3개의 n_components 기반 GMM을 X_aniso 데이터 세트에 적용\n",
        "gmm = GaussianMixture(n_components=3, random_state=0)\n",
        "gmm_label = gmm.fit(X_aniso).predict(X_aniso)\n",
        "clusterDF['gmm_label']= gmm_label\n",
        "\n",
        "#GaussianMixture는 cluster_centers_속성이 없으므로 iscluster를 False로 설정\n",
        "#visualize_cluster_plot(gmm, clusterDF, 'gmm_label', iscluster=True)"
      ],
      "metadata": {
        "id": "Q23XNckKGMEl"
      },
      "execution_count": 19,
      "outputs": []
    },
    {
      "cell_type": "code",
      "source": [
        "print('###KMeans Clustering###')\n",
        "print(clusterDF.groupby('target')['kmeans_label'].value_counts())\n",
        "print('\\n### Gaussian Mixture Clustering###')\n",
        "print(clusterDF.groupby('target')['gmm_label'].value_counts())"
      ],
      "metadata": {
        "colab": {
          "base_uri": "https://localhost:8080/"
        },
        "id": "vVD-CDI6G4iU",
        "outputId": "fdb73731-4bfe-4327-c4ca-583e8a0b8112"
      },
      "execution_count": 20,
      "outputs": [
        {
          "output_type": "stream",
          "name": "stdout",
          "text": [
            "###KMeans Clustering###\n",
            "target  kmeans_label\n",
            "0       2                73\n",
            "        0                27\n",
            "1       1               100\n",
            "2       0                86\n",
            "        2                14\n",
            "Name: kmeans_label, dtype: int64\n",
            "\n",
            "### Gaussian Mixture Clustering###\n",
            "target  gmm_label\n",
            "0       2            100\n",
            "1       1            100\n",
            "2       0            100\n",
            "Name: gmm_label, dtype: int64\n"
          ]
        }
      ]
    }
  ]
}