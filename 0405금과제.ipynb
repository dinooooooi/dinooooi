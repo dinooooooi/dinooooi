{
  "nbformat": 4,
  "nbformat_minor": 0,
  "metadata": {
    "colab": {
      "provenance": [],
      "authorship_tag": "ABX9TyNtg5tZPiqZe1c2+yrUjr19",
      "include_colab_link": true
    },
    "kernelspec": {
      "name": "python3",
      "display_name": "Python 3"
    },
    "language_info": {
      "name": "python"
    }
  },
  "cells": [
    {
      "cell_type": "markdown",
      "metadata": {
        "id": "view-in-github",
        "colab_type": "text"
      },
      "source": [
        "<a href=\"https://colab.research.google.com/github/dinooooooi/dinooooi/blob/main/0405%EA%B8%88%EA%B3%BC%EC%A0%9C.ipynb\" target=\"_parent\"><img src=\"https://colab.research.google.com/assets/colab-badge.svg\" alt=\"Open In Colab\"/></a>"
      ]
    },
    {
      "cell_type": "code",
      "execution_count": null,
      "metadata": {
        "id": "ICReEMCwNvzc"
      },
      "outputs": [],
      "source": []
    },
    {
      "cell_type": "markdown",
      "source": [
        "466~486\n",
        "#Chaper 8. 텍스트 분석\n",
        "\n",
        "##01. 텍스트 분석 이해\n",
        "비정형 데이터 텍스트 분석\n",
        "\n",
        "어떻게 피처 형태로 추출하고 추출된 피처에 의미 있는 값을 부여하는지가 중요\n",
        "= 피처 벡터화, 피처 추출\n",
        "\n",
        "###텍스트 분석 수행 프로세스\n",
        "1. 텍스트 사전준비작업\n",
        "2. 피처 벡터화/추출\n",
        "3. ML 모델 수립 및 학습/예측/평가\n",
        "\n",
        "###파이썬 기반의 NLP, 텍스트 분석 패키지\n",
        "* NLTK : 대표적인 NLP 패키지\n",
        "* Gensim\n",
        "* SpaCy\n",
        "\n",
        "##02. 텍스트 사전 준비 작업(텍스트 전처리) - 텍스트 정규화\n",
        "### 클렌징\n",
        "텍스트에서 분석에 오히려 방해가 되는 불필요한 문자, 기호 등을 사전에 제거하는 작업\n",
        "###텍스트 토큰화\n",
        "문장 토큰화: 문서에서 문장을 분리\n",
        "\n",
        "마침표, 개행문자 등 문장의 마지막을 뜻하는 기호에 따라 분리하는 것이 일반적\n"
      ],
      "metadata": {
        "id": "GPdLTLpZNzRZ"
      }
    },
    {
      "cell_type": "code",
      "source": [
        "from nltk import sent_tokenize\n",
        "import nltk\n",
        "nltk.download('punkt')\n",
        "\n",
        "text_sample = 'The Matrix is everywhere its all around us, here even in this room. \\\n",
        "               You can see it out your window or on your television. \\\n",
        "               You feel it when you go to work, or go to church or pay your taxes.'\n",
        "sentences = sent_tokenize(text=text_sample)\n",
        "print(type(sentences), len(sentences))\n",
        "print(sentences)"
      ],
      "metadata": {
        "colab": {
          "base_uri": "https://localhost:8080/"
        },
        "id": "XOV6ahUGQUXK",
        "outputId": "1ca90244-d4a6-49e8-f166-4a2e33ba15a3"
      },
      "execution_count": 1,
      "outputs": [
        {
          "output_type": "stream",
          "name": "stderr",
          "text": [
            "[nltk_data] Downloading package punkt to /root/nltk_data...\n",
            "[nltk_data]   Unzipping tokenizers/punkt.zip.\n"
          ]
        },
        {
          "output_type": "stream",
          "name": "stdout",
          "text": [
            "<class 'list'> 3\n",
            "['The Matrix is everywhere its all around us, here even in this room.', 'You can see it out your window or on your television.', 'You feel it when you go to work, or go to church or pay your taxes.']\n"
          ]
        }
      ]
    },
    {
      "cell_type": "markdown",
      "source": [
        "3개의 문장으로 된 문자열을 가지고 있음\n",
        "\n",
        "단어 토큰화: 문장에서 단어를 분리\n",
        "\n",
        "공백, 콤마, 마침표, 개행문자 드응로 단어를 분리하지만 정규 표현식을 이용해 다양한 유형으로 토큰화 수행 가능\n",
        "\n",
        "단어의 순서가 중요하지 않은 경우 단어 토큰화만 사용해도 충분"
      ],
      "metadata": {
        "id": "KM4sF0qfUWnQ"
      }
    },
    {
      "cell_type": "code",
      "source": [
        "from nltk import word_tokenize\n",
        "sentence = \"The Matrix is everywhere its all around us, hear even in this room.\"\n",
        "words = word_tokenize(sentence)\n",
        "print(type(words), len(words))\n",
        "print(words)"
      ],
      "metadata": {
        "colab": {
          "base_uri": "https://localhost:8080/"
        },
        "id": "yUKtmvJvQmiT",
        "outputId": "d4dc551e-01e3-4354-808e-8ebb28b45226"
      },
      "execution_count": 2,
      "outputs": [
        {
          "output_type": "stream",
          "name": "stdout",
          "text": [
            "<class 'list'> 15\n",
            "['The', 'Matrix', 'is', 'everywhere', 'its', 'all', 'around', 'us', ',', 'hear', 'even', 'in', 'this', 'room', '.']\n"
          ]
        }
      ]
    },
    {
      "cell_type": "markdown",
      "source": [
        "sent_tokenize와 word_tokenize  조합"
      ],
      "metadata": {
        "id": "3Yxy2KVxUx7-"
      }
    },
    {
      "cell_type": "code",
      "source": [
        "from nltk import word_tokenize, sent_tokenize\n",
        "\n",
        "#여러 개의 문장으로 된 입력 데이터를 문장별로 단어 토큰화하게 만드는 함수 생성\n",
        "def tokenize_text(text):\n",
        "\n",
        "  # 문장별로 분리 토큰\n",
        "  sentences = sent_tokenize(text)\n",
        "  # 분리된 문장별 단어 토큰화\n",
        "  word_tokens = [word_tokenize(sentence) for sentence in sentences]\n",
        "  return word_tokens\n",
        "\n",
        "# 여러 문장에 대해 문장별 단어 토큰화 수행.\n",
        "word_tokens = tokenize_text(text_sample)\n",
        "print(type(word_tokens), len(word_tokens))\n",
        "print(word_tokens)"
      ],
      "metadata": {
        "colab": {
          "base_uri": "https://localhost:8080/"
        },
        "id": "vBr6BMO6QtZy",
        "outputId": "081ea39d-6655-487c-ad9a-b8e50c8fbfb1"
      },
      "execution_count": 3,
      "outputs": [
        {
          "output_type": "stream",
          "name": "stdout",
          "text": [
            "<class 'list'> 3\n",
            "[['The', 'Matrix', 'is', 'everywhere', 'its', 'all', 'around', 'us', ',', 'here', 'even', 'in', 'this', 'room', '.'], ['You', 'can', 'see', 'it', 'out', 'your', 'window', 'or', 'on', 'your', 'television', '.'], ['You', 'feel', 'it', 'when', 'you', 'go', 'to', 'work', ',', 'or', 'go', 'to', 'church', 'or', 'pay', 'your', 'taxes', '.']]\n"
          ]
        }
      ]
    },
    {
      "cell_type": "markdown",
      "source": [
        "###스톱 워드 제거\n",
        "\n",
        "스톱워드: 분석에 큰 의미가 없는 단어\n",
        "\n",
        "언어별로 목록화되어 있음"
      ],
      "metadata": {
        "id": "-ggsQxUqU4Hj"
      }
    },
    {
      "cell_type": "code",
      "source": [
        "import nltk\n",
        "nltk.download('stopwords')"
      ],
      "metadata": {
        "colab": {
          "base_uri": "https://localhost:8080/"
        },
        "id": "BXoUBLFWQv5R",
        "outputId": "6cd03df9-a4ec-4bd2-ab5c-62294f7d35de"
      },
      "execution_count": 4,
      "outputs": [
        {
          "output_type": "stream",
          "name": "stderr",
          "text": [
            "[nltk_data] Downloading package stopwords to /root/nltk_data...\n",
            "[nltk_data]   Unzipping corpora/stopwords.zip.\n"
          ]
        },
        {
          "output_type": "execute_result",
          "data": {
            "text/plain": [
              "True"
            ]
          },
          "metadata": {},
          "execution_count": 4
        }
      ]
    },
    {
      "cell_type": "code",
      "source": [
        "print('영어 stop words 개수:', len(nltk.corpus.stopwords.words('english')))\n",
        "print(nltk.corpus.stopwords.words('english')[:20])"
      ],
      "metadata": {
        "colab": {
          "base_uri": "https://localhost:8080/"
        },
        "id": "Znv29UG2QyWP",
        "outputId": "34329876-43b5-45a7-fb10-030969ab3082"
      },
      "execution_count": 5,
      "outputs": [
        {
          "output_type": "stream",
          "name": "stdout",
          "text": [
            "영어 stop words 개수: 179\n",
            "['i', 'me', 'my', 'myself', 'we', 'our', 'ours', 'ourselves', 'you', \"you're\", \"you've\", \"you'll\", \"you'd\", 'your', 'yours', 'yourself', 'yourselves', 'he', 'him', 'his']\n"
          ]
        }
      ]
    },
    {
      "cell_type": "markdown",
      "source": [
        "word_tokens리스트에 대해서 stopwords를 필터링으로 제거"
      ],
      "metadata": {
        "id": "lkpbAbn7VRRv"
      }
    },
    {
      "cell_type": "code",
      "source": [
        "import nltk\n",
        "\n",
        "stopwords = nltk.corpus.stopwords.words('english')\n",
        "all_tokens=[]\n",
        "# 위 예제에서 3개의 문장별로 얻은 word_tokens list에 대해 스톱 워드를 제거하는 반복문\n",
        "for sentence in word_tokens:\n",
        "  filtered_words=[]\n",
        "  #개별 문장별로 토큰화된 문장 list에 대해 스톱 워드를 제거하는 반복문\n",
        "  for word in sentence:\n",
        "    # 소문자로 모두 변환합니다.\n",
        "    word = word.lower()\n",
        "    #토큰화된 개별 단어가 스톱 워드의 단어에 포함되지 않으면 word_tokens에 추가\n",
        "    if word not in stopwords:\n",
        "      filtered_words.append(word)\n",
        "  all_tokens.append(filtered_words)\n",
        "\n",
        "print(all_tokens)"
      ],
      "metadata": {
        "colab": {
          "base_uri": "https://localhost:8080/"
        },
        "id": "1AUGpluEQ5cl",
        "outputId": "7cc0180a-d2a8-43ff-fc5d-f61130c927da"
      },
      "execution_count": 7,
      "outputs": [
        {
          "output_type": "stream",
          "name": "stdout",
          "text": [
            "[['matrix', 'everywhere', 'around', 'us', ',', 'even', 'room', '.'], ['see', 'window', 'television', '.'], ['feel', 'go', 'work', ',', 'go', 'church', 'pay', 'taxes', '.']]\n"
          ]
        }
      ]
    },
    {
      "cell_type": "markdown",
      "source": [
        "### stemming과 Lemmatization\n",
        "\n",
        "문법적인 요소를 제외한 원형 단어를 찾음\n",
        "\n",
        "Lemmatization이 더 정교 - 의미론적인 기반에서 단어의 원형 찾음\n",
        "\n",
        "Stemming은 일반적인 방법"
      ],
      "metadata": {
        "id": "hEGq2ckUVcdU"
      }
    },
    {
      "cell_type": "code",
      "source": [
        "from nltk.stem import LancasterStemmer\n",
        "\n",
        "stemmer = LancasterStemmer()\n",
        "\n",
        "print(stemmer.stem('working'), stemmer.stem('works'),stemmer.stem('worked'))\n",
        "print(stemmer.stem('amusing'), stemmer.stem('amuses'), stemmer.stem('amused'))\n",
        "print(stemmer.stem('happier'), stemmer.stem('happiest'))\n",
        "print(stemmer.stem('fancier'), stemmer.stem('fanciest'))"
      ],
      "metadata": {
        "colab": {
          "base_uri": "https://localhost:8080/"
        },
        "id": "lLxIlYQcQ8Pi",
        "outputId": "186fedfb-b626-4c3c-d05e-3973e4dd5494"
      },
      "execution_count": 8,
      "outputs": [
        {
          "output_type": "stream",
          "name": "stdout",
          "text": [
            "work work work\n",
            "amus amus amus\n",
            "happy happiest\n",
            "fant fanciest\n"
          ]
        }
      ]
    },
    {
      "cell_type": "code",
      "source": [
        "from nltk.stem import WordNetLemmatizer\n",
        "import nltk\n",
        "nltk.download('wordnet')\n",
        "\n",
        "lemma = WordNetLemmatizer()\n",
        "print(lemma.lemmatize('amusing', 'v'), lemma.lemmatize('amuses','v'), lemma.lemmatize('amused','v'))\n",
        "print(lemma.lemmatize('happier','a'), lemma.lemmatize('happiest','a'))\n",
        "print(lemma.lemmatize('fancier','a'), lemma.lemmatize('fanciest','a'))"
      ],
      "metadata": {
        "colab": {
          "base_uri": "https://localhost:8080/"
        },
        "id": "ZoRb_FXuQ_jq",
        "outputId": "40857c24-0e32-431a-e10d-b5852085ddbf"
      },
      "execution_count": 9,
      "outputs": [
        {
          "output_type": "stream",
          "name": "stderr",
          "text": [
            "[nltk_data] Downloading package wordnet to /root/nltk_data...\n"
          ]
        },
        {
          "output_type": "stream",
          "name": "stdout",
          "text": [
            "amuse amuse amuse\n",
            "happy happy\n",
            "fancy fancy\n"
          ]
        }
      ]
    },
    {
      "cell_type": "markdown",
      "source": [
        "더 정확하게 원형 단어 추출"
      ],
      "metadata": {
        "id": "NMOZiGR4WEeq"
      }
    },
    {
      "cell_type": "markdown",
      "source": [
        "##03. Bag of Words - BOW\n",
        "단어를 문맥이나 순서를 무시하고 일관적으로 단어에 대해 빈도 값을 부여해 피처 값을 추출하는 모델\n",
        "###BOW 피처 벡터화\n",
        "텍스트는 특정 의미를 가지는 숫자형 값인 벡터값으로 변환 : 피처 벡터화\n",
        "\n",
        "* 카운트 기반의 벡터화\n",
        "\n",
        "단어 피처에 값을 부여할 때 각 문서에서 해당 단어가 나타나는 횟수\n",
        "\n",
        "언어의 특성상 문장에서 자주 사용될 수 밖에 없는 단어까지 높은 값을 부\n",
        "\n",
        "* TF-IDF 기반의 벡터화\n",
        "\n",
        "개별 문서에서 자주 나타나는 단어에 높은 가중치를 주되, 모든 문서에서 자주 나타나는 단어에 대해서는 패널티를 주는 방식으로 값을 부여\n",
        "###사이킷런의 count 및 TF-IDF 벡터화 구현: CountVectorizer, TfidfVectorizer\n",
        " CountVectorizer 클래스 : 피처 벡터화, 소문자 일괄 변환, 토큰화, 스톱 워드 필터링 등 텍스트 전처리\n",
        "\n",
        " 영어의 경우 모든 문자를 소문자로 변경하는 등의 전처리\n",
        "\n",
        " 디폴트로 단어 기준으로 n_gram_range를 반영해 각 단어 토큰화\n",
        "\n",
        " 텍스트 정규화 stop_words 파라미터가 주어진 경우 스톱워드 필터링만 가능\n",
        "\n",
        " TfidfVectorizer 클래스 : 비슷\n",
        "\n",
        "###BOW 벡터화를 위한 희소 행렬\n",
        "대규모 행렬의 대부분의 값을 0이 차지하는 행렬을 가리켜 희소 행렬\n",
        "\n",
        "BOW 형태를 가진 언어 모델의 피처 벡터화는 대부분 희소 행렬\n",
        "\n",
        "물리적으로 적은 메모리 공간을 차지할 수 있도록 변환 : COO형식과 CSR 형식\n",
        "\n",
        "###희소 행렬- COO 형식\n",
        "\n",
        "0이 아닌 데이터만 별도의 데이터 배열에 저장하고 그 데이터가 가리키는 행과 열의 위치를 별도의 배열로 저장하는 방식\n",
        "\n",
        "사이파이 이용"
      ],
      "metadata": {
        "id": "UNHumHuaRGEj"
      }
    },
    {
      "cell_type": "code",
      "source": [
        "import numpy as np\n",
        "dense = np.array([[3,0,1],[0,2,0]])"
      ],
      "metadata": {
        "id": "UyhP12yDRC21"
      },
      "execution_count": 10,
      "outputs": []
    },
    {
      "cell_type": "code",
      "source": [
        "from scipy import sparse\n",
        "\n",
        "# 0이 아닌 데이터 추출\n",
        "data = np.array([3,1,2])\n",
        "\n",
        "# 0이 아닌 데이터의 행 위치와 열 위치를 각각 배열로 생성\n",
        "row_pos = np.array([0,0,1])      # 3:(0,0)/1:(0,2)/2:(1,1)\n",
        "col_pos = np.array([0,2,1])\n",
        "\n",
        "#saprse 패키지의 coo_matrix를 이용해 COO 형식으로 희소 행렬 생성\n",
        "sparse_coo = sparse.coo_matrix((data, (row_pos, col_pos)))"
      ],
      "metadata": {
        "id": "QUWfWOcARLmJ"
      },
      "execution_count": 11,
      "outputs": []
    },
    {
      "cell_type": "markdown",
      "source": [
        "밀집 형태의 행렬로 출력"
      ],
      "metadata": {
        "id": "ofXlOKJLcdni"
      }
    },
    {
      "cell_type": "code",
      "source": [
        "sparse_coo.toarray()"
      ],
      "metadata": {
        "colab": {
          "base_uri": "https://localhost:8080/"
        },
        "id": "aRGdtotoQ_pc",
        "outputId": "2673701e-5339-46c0-806b-51b467a8bfbb"
      },
      "execution_count": 12,
      "outputs": [
        {
          "output_type": "execute_result",
          "data": {
            "text/plain": [
              "array([[3, 0, 1],\n",
              "       [0, 2, 0]])"
            ]
          },
          "metadata": {},
          "execution_count": 12
        }
      ]
    },
    {
      "cell_type": "markdown",
      "source": [
        "###희소 행렬 - CSR 형식\n",
        "\n",
        "COO 형식의 문제점 : 순차적인 같은 값이 반복적으로 나타남\n",
        "\n",
        "행 위치 배열의 고유한 값의 시작 위치만 표기하는 방법으로 반복 제거\n",
        "\n",
        "사이파이의 csr_matrix 클래스를 이용\n",
        "\n",
        "0이 아닌 데이터 배열과 열 위치 배열, 행 위치 배열의 고유값의 시작 위치 배열을 csr_matrix의 생성 파라미터로 입력"
      ],
      "metadata": {
        "id": "0JgVc3EkchP3"
      }
    },
    {
      "cell_type": "code",
      "source": [
        "from scipy import sparse\n",
        "\n",
        "dense2 = np.array([[0,0,1,0,0,5],\n",
        "                   [1,4,0,3,2,5],\n",
        "                   [0,6,0,3,0,0],\n",
        "                   [2,0,0,0,0,0],\n",
        "                   [0,0,0,7,0,8],\n",
        "                   [1,0,0,0,0,0]])\n",
        "\n",
        "# 0이 아닌 데이터 추출\n",
        "data2 = np.array([1,5,1,4,3,2,5,6,3,2,7,8,1])\n",
        "\n",
        "# 행 위치와 열 위치를 각각 array로 생성\n",
        "row_pos = np.array([0,0,1,1,1,1,1,2,2,3,4,4,5])\n",
        "col_pos = np.array([2,5,0,1,3,4,5,1,3,0,3,5,0])\n",
        "\n",
        "# COO 형식으로 변환\n",
        "sparse_coo = sparse.coo_matrix((data2, (row_pos, col_pos)))\n",
        "\n",
        "# 행 위치 배열의 고유한 값의 시작 위치 인덱스를 배열로 생성\n",
        "row_pos_ind = np.array([0,2,7,9,10,12,13])\n",
        "\n",
        "# CSR 형식으로 변환\n",
        "sparse_csr = sparse.csr_matrix((data2, col_pos, row_pos_ind))\n",
        "\n",
        "print('COO 변환된 데이터가 제대로 되었는지 다시 Dense로 출력 확인')\n",
        "print(sparse_coo.toarray())\n",
        "print('CSR 변환된 데이터가 제대로 되었는지 다시 Dense로 출력 확인')\n",
        "print(sparse_csr.toarray())"
      ],
      "metadata": {
        "colab": {
          "base_uri": "https://localhost:8080/"
        },
        "id": "ESCoZlMyRTmw",
        "outputId": "3f6ea42c-c3c0-4683-d77c-6328ae5b6914"
      },
      "execution_count": 13,
      "outputs": [
        {
          "output_type": "stream",
          "name": "stdout",
          "text": [
            "COO 변환된 데이터가 제대로 되었는지 다시 Dense로 출력 확인\n",
            "[[0 0 1 0 0 5]\n",
            " [1 4 0 3 2 5]\n",
            " [0 6 0 3 0 0]\n",
            " [2 0 0 0 0 0]\n",
            " [0 0 0 7 0 8]\n",
            " [1 0 0 0 0 0]]\n",
            "CSR 변환된 데이터가 제대로 되었는지 다시 Dense로 출력 확인\n",
            "[[0 0 1 0 0 5]\n",
            " [1 4 0 3 2 5]\n",
            " [0 6 0 3 0 0]\n",
            " [2 0 0 0 0 0]\n",
            " [0 0 0 7 0 8]\n",
            " [1 0 0 0 0 0]]\n"
          ]
        }
      ]
    },
    {
      "cell_type": "code",
      "source": [
        "dense3 = np.array([[0,0,1,0,0,5],\n",
        "                   [1,4,0,3,2,5],\n",
        "                   [0,6,0,3,0,0],\n",
        "                   [2,0,0,0,0,0],\n",
        "                   [0,0,0,7,0,8],\n",
        "                   [1,0,0,0,0,0]])\n",
        "\n",
        "coo = sparse.coo_matrix(dense3)\n",
        "csr = sparse.csr_matrix(dense3)"
      ],
      "metadata": {
        "id": "XcxgBMJARUKY"
      },
      "execution_count": 14,
      "outputs": []
    },
    {
      "cell_type": "code",
      "source": [
        "print(coo.toarray())\n",
        "print(csr.toarray())"
      ],
      "metadata": {
        "colab": {
          "base_uri": "https://localhost:8080/"
        },
        "id": "xFZ7KqozRW0_",
        "outputId": "152d65c5-6136-41ae-d64b-e6ca5d122e7d"
      },
      "execution_count": 15,
      "outputs": [
        {
          "output_type": "stream",
          "name": "stdout",
          "text": [
            "[[0 0 1 0 0 5]\n",
            " [1 4 0 3 2 5]\n",
            " [0 6 0 3 0 0]\n",
            " [2 0 0 0 0 0]\n",
            " [0 0 0 7 0 8]\n",
            " [1 0 0 0 0 0]]\n",
            "[[0 0 1 0 0 5]\n",
            " [1 4 0 3 2 5]\n",
            " [0 6 0 3 0 0]\n",
            " [2 0 0 0 0 0]\n",
            " [0 0 0 7 0 8]\n",
            " [1 0 0 0 0 0]]\n"
          ]
        }
      ]
    }
  ]
}