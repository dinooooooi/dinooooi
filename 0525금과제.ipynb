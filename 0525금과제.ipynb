{
  "nbformat": 4,
  "nbformat_minor": 0,
  "metadata": {
    "colab": {
      "provenance": [],
      "authorship_tag": "ABX9TyPQ4qxbSFlAbaISq9PaSkHH",
      "include_colab_link": true
    },
    "kernelspec": {
      "name": "python3",
      "display_name": "Python 3"
    },
    "language_info": {
      "name": "python"
    }
  },
  "cells": [
    {
      "cell_type": "markdown",
      "metadata": {
        "id": "view-in-github",
        "colab_type": "text"
      },
      "source": [
        "<a href=\"https://colab.research.google.com/github/dinooooooi/dinooooi/blob/main/0525%EA%B8%88%EA%B3%BC%EC%A0%9C.ipynb\" target=\"_parent\"><img src=\"https://colab.research.google.com/assets/colab-badge.svg\" alt=\"Open In Colab\"/></a>"
      ]
    },
    {
      "cell_type": "code",
      "execution_count": null,
      "metadata": {
        "id": "AtAb7j9aZIsY"
      },
      "outputs": [],
      "source": []
    },
    {
      "cell_type": "markdown",
      "source": [
        "87p~ 95p, 105p~115p\n",
        "\n",
        "#4. 모델 세부 설정"
      ],
      "metadata": {
        "id": "B3weYuLpZKzH"
      }
    },
    {
      "cell_type": "code",
      "source": [
        "import tensorflow as tf\n",
        "\n",
        "#케라스의 내장 데이터셋에서 mnist 데이터셋 로드\n",
        "mnist=tf.keras.datasets.mnist\n",
        "\n",
        "#load_data()로 데이터셋 로드\n",
        "(x_train, y_train),(x_test, y_test)=mnist.load_data()\n",
        "\n",
        "#로드된 데이터셋 확인\n",
        "print('train set:',x_train.shape, y_train.shape)\n",
        "print('test set:', x_test.shape, y_test.shape)\n",
        "\n",
        "#데이터 정규화\n",
        "x_train=x_train/x_train.max() #max:255\n",
        "x_test=x_test/x_test.max() #max:255"
      ],
      "metadata": {
        "colab": {
          "base_uri": "https://localhost:8080/"
        },
        "id": "i0RET3kcZQgU",
        "outputId": "8c233379-4c21-4827-f219-5f7a43e2b2e7"
      },
      "execution_count": 1,
      "outputs": [
        {
          "output_type": "stream",
          "name": "stdout",
          "text": [
            "Downloading data from https://storage.googleapis.com/tensorflow/tf-keras-datasets/mnist.npz\n",
            "11490434/11490434 [==============================] - 0s 0us/step\n",
            "train set: (60000, 28, 28) (60000,)\n",
            "test set: (10000, 28, 28) (10000,)\n"
          ]
        }
      ]
    },
    {
      "cell_type": "markdown",
      "source": [
        "##4-1. 초기값 설정"
      ],
      "metadata": {
        "id": "kEtPK1G2bRVT"
      }
    },
    {
      "cell_type": "code",
      "source": [
        "dense=tf.keras.layers.Dense(256, activation='relu')\n",
        "dense.get_config()['kernel_initializer']"
      ],
      "metadata": {
        "colab": {
          "base_uri": "https://localhost:8080/"
        },
        "id": "zat1O_jpbUCx",
        "outputId": "308dea57-d6f8-46ce-c232-b56b87e0d6d2"
      },
      "execution_count": 2,
      "outputs": [
        {
          "output_type": "execute_result",
          "data": {
            "text/plain": [
              "{'module': 'keras.initializers',\n",
              " 'class_name': 'GlorotUniform',\n",
              " 'config': {'seed': None},\n",
              " 'registered_name': None}"
            ]
          },
          "metadata": {},
          "execution_count": 2
        }
      ]
    },
    {
      "cell_type": "code",
      "source": [
        "#문자열 초기화\n",
        "dense=tf.keras.layers.Dense(256, kernel_initializer='he_normal',activation='relu')\n",
        "print(dense.get_config()['kernel_initializer'])\n",
        "\n",
        "#클래스 인스턴스 초기화\n",
        "he_normal=tf.keras.initializers.HeNormal()\n",
        "dense=tf.keras.layers.Dense(256,kernel_initializer=he_normal,activation='relu')"
      ],
      "metadata": {
        "colab": {
          "base_uri": "https://localhost:8080/"
        },
        "id": "UJp7M7vlbWgR",
        "outputId": "37872720-ca19-493a-b2e8-aad15ad54730"
      },
      "execution_count": 3,
      "outputs": [
        {
          "output_type": "stream",
          "name": "stdout",
          "text": [
            "{'module': 'keras.initializers', 'class_name': 'HeNormal', 'config': {'seed': None}, 'registered_name': None}\n"
          ]
        }
      ]
    },
    {
      "cell_type": "markdown",
      "source": [
        "##4-2. 규제"
      ],
      "metadata": {
        "id": "55hUOd5Ibaes"
      }
    },
    {
      "cell_type": "code",
      "source": [
        "#기본값\n",
        "dense=tf.keras.layers.Dense(256, activation='relu')\n",
        "dense.get_config()"
      ],
      "metadata": {
        "colab": {
          "base_uri": "https://localhost:8080/"
        },
        "id": "JtXp-GEvbeYb",
        "outputId": "fa51b35a-a963-44f1-ac4c-44fcb22a1a1e"
      },
      "execution_count": 4,
      "outputs": [
        {
          "output_type": "execute_result",
          "data": {
            "text/plain": [
              "{'name': 'dense_3',\n",
              " 'trainable': True,\n",
              " 'dtype': 'float32',\n",
              " 'units': 256,\n",
              " 'activation': 'relu',\n",
              " 'use_bias': True,\n",
              " 'kernel_initializer': {'module': 'keras.initializers',\n",
              "  'class_name': 'GlorotUniform',\n",
              "  'config': {'seed': None},\n",
              "  'registered_name': None},\n",
              " 'bias_initializer': {'module': 'keras.initializers',\n",
              "  'class_name': 'Zeros',\n",
              "  'config': {},\n",
              "  'registered_name': None},\n",
              " 'kernel_regularizer': None,\n",
              " 'bias_regularizer': None,\n",
              " 'activity_regularizer': None,\n",
              " 'kernel_constraint': None,\n",
              " 'bias_constraint': None}"
            ]
          },
          "metadata": {},
          "execution_count": 4
        }
      ]
    },
    {
      "cell_type": "code",
      "source": [
        "#l1 규제 적용\n",
        "dense=tf.keras.layers.Dense(256, kernel_regularizer=' l1', activation='relu')\n",
        "print(dense.get_config()['kernel_regularizer'])\n",
        "\n",
        "#클래스 인스턴스 적용, alpha=0.1 변경\n",
        "regularizer=tf.keras.regularizers.l1(l1=0.1)\n",
        "dense=tf.keras.layers.Dense(256,kernel_regularizer=regularizer,activation='relu')\n",
        "print(dense.get_config()['kernel_regularizer'])"
      ],
      "metadata": {
        "colab": {
          "base_uri": "https://localhost:8080/"
        },
        "id": "l8LKKIm6biBM",
        "outputId": "adcb0290-8e82-4f0c-9f76-7cc74a103599"
      },
      "execution_count": 5,
      "outputs": [
        {
          "output_type": "stream",
          "name": "stdout",
          "text": [
            " l1\n",
            "{'module': 'keras.regularizers', 'class_name': 'L1', 'config': {'l1': 0.10000000149011612}, 'registered_name': None}\n"
          ]
        },
        {
          "output_type": "stream",
          "name": "stderr",
          "text": [
            "/usr/local/lib/python3.10/dist-packages/keras/src/regularizers.py:426: UserWarning: The `keras.regularizers.serialize()` API should only be used for objects of type `keras.regularizers.Regularizer`. Found an instance of type <class 'str'>, which may lead to improper serialization.\n",
            "  warnings.warn(\n"
          ]
        }
      ]
    },
    {
      "cell_type": "markdown",
      "source": [
        "##4-3. 드롭아웃"
      ],
      "metadata": {
        "id": "MLHbvNVvcFqu"
      }
    },
    {
      "cell_type": "code",
      "source": [
        "#Dropout 25% 비율 적용(25%의 노드가 삭제)\n",
        "tf.keras.layers.Dropout(0.25)"
      ],
      "metadata": {
        "colab": {
          "base_uri": "https://localhost:8080/"
        },
        "id": "LEkMYm-8cHQ-",
        "outputId": "f266ee2e-8990-49b1-8371-db0fe94b0c62"
      },
      "execution_count": 6,
      "outputs": [
        {
          "output_type": "execute_result",
          "data": {
            "text/plain": [
              "<keras.src.layers.regularization.dropout.Dropout at 0x7814e6e95000>"
            ]
          },
          "metadata": {},
          "execution_count": 6
        }
      ]
    },
    {
      "cell_type": "markdown",
      "source": [
        "##4-4. 배치 정규화"
      ],
      "metadata": {
        "id": "mLSRzu3tcSqm"
      }
    },
    {
      "cell_type": "code",
      "source": [
        "#Model A: Dense+ReLU\n",
        "model_a=tf.keras.Sequential([\n",
        "    tf.keras.layers.Flatten(input_shape=(28,28)),\n",
        "    tf.keras.layers.Dense(64, activation='relu'),\n",
        "    tf.keras.layers.Dense(32, activation='relu'),\n",
        "    tf.keras.layers.Dense(10, activation='softmax')\n",
        "])\n",
        "model_a.summary()"
      ],
      "metadata": {
        "colab": {
          "base_uri": "https://localhost:8080/"
        },
        "id": "y_VfT43scUZB",
        "outputId": "8a257e4d-a40c-43c8-8ad7-86ae78d736fc"
      },
      "execution_count": 7,
      "outputs": [
        {
          "output_type": "stream",
          "name": "stdout",
          "text": [
            "Model: \"sequential\"\n",
            "_________________________________________________________________\n",
            " Layer (type)                Output Shape              Param #   \n",
            "=================================================================\n",
            " flatten (Flatten)           (None, 784)               0         \n",
            "                                                                 \n",
            " dense_6 (Dense)             (None, 64)                50240     \n",
            "                                                                 \n",
            " dense_7 (Dense)             (None, 32)                2080      \n",
            "                                                                 \n",
            " dense_8 (Dense)             (None, 10)                330       \n",
            "                                                                 \n",
            "=================================================================\n",
            "Total params: 52650 (205.66 KB)\n",
            "Trainable params: 52650 (205.66 KB)\n",
            "Non-trainable params: 0 (0.00 Byte)\n",
            "_________________________________________________________________\n"
          ]
        }
      ]
    },
    {
      "cell_type": "code",
      "source": [
        "#Model B: Dense + BatchNorm + ReLU\n",
        "model_b=tf.keras.Sequential([\n",
        "    tf.keras.layers.Flatten(input_shape=(28,28)),\n",
        "    tf.keras.layers.Dense(64),\n",
        "    #배치 정규화 적용\n",
        "    tf.keras.layers.BatchNormalization(),\n",
        "    #배치 정규화 후 활성화 함수 적용\n",
        "    tf.keras.layers.Activation('relu'),\n",
        "\n",
        "    tf.keras.layers.Dense(32),\n",
        "    #배치 정규화 적용\n",
        "    tf.keras.layers.BatchNormalization(),\n",
        "    #배치 정규화 후 활성화 함수 적용\n",
        "    tf.keras.layers.Activation('relu'),\n",
        "\n",
        "    tf.keras.layers.Dense(10, activation='softmax')\n",
        "])\n",
        "model_b.summary()"
      ],
      "metadata": {
        "colab": {
          "base_uri": "https://localhost:8080/"
        },
        "id": "ELZrHAJScapu",
        "outputId": "dbc65262-f080-4def-c33d-69a50fe4b5a5"
      },
      "execution_count": 8,
      "outputs": [
        {
          "output_type": "stream",
          "name": "stdout",
          "text": [
            "Model: \"sequential_1\"\n",
            "_________________________________________________________________\n",
            " Layer (type)                Output Shape              Param #   \n",
            "=================================================================\n",
            " flatten_1 (Flatten)         (None, 784)               0         \n",
            "                                                                 \n",
            " dense_9 (Dense)             (None, 64)                50240     \n",
            "                                                                 \n",
            " batch_normalization (Batch  (None, 64)                256       \n",
            " Normalization)                                                  \n",
            "                                                                 \n",
            " activation (Activation)     (None, 64)                0         \n",
            "                                                                 \n",
            " dense_10 (Dense)            (None, 32)                2080      \n",
            "                                                                 \n",
            " batch_normalization_1 (Bat  (None, 32)                128       \n",
            " chNormalization)                                                \n",
            "                                                                 \n",
            " activation_1 (Activation)   (None, 32)                0         \n",
            "                                                                 \n",
            " dense_11 (Dense)            (None, 10)                330       \n",
            "                                                                 \n",
            "=================================================================\n",
            "Total params: 53034 (207.16 KB)\n",
            "Trainable params: 52842 (206.41 KB)\n",
            "Non-trainable params: 192 (768.00 Byte)\n",
            "_________________________________________________________________\n"
          ]
        }
      ]
    },
    {
      "cell_type": "markdown",
      "source": [
        "##4-5. 활성화(activation) 함수"
      ],
      "metadata": {
        "id": "QAsCw-rdckfS"
      }
    },
    {
      "cell_type": "code",
      "source": [
        "#LeakyReLU 기본 설정\n",
        "tf.keras.layers.LeakyReLU()\n",
        "\n",
        "#LeakyReLU.alpha=0.2로 변경\n",
        "tf.keras.layers.LeakyReLU(alpha=0.2)"
      ],
      "metadata": {
        "colab": {
          "base_uri": "https://localhost:8080/"
        },
        "id": "q1kKC6T7chSj",
        "outputId": "a63a1b10-cbb0-408d-f921-f963b97ab311"
      },
      "execution_count": 9,
      "outputs": [
        {
          "output_type": "execute_result",
          "data": {
            "text/plain": [
              "<keras.src.layers.activation.leaky_relu.LeakyReLU at 0x78145baaada0>"
            ]
          },
          "metadata": {},
          "execution_count": 9
        }
      ]
    },
    {
      "cell_type": "code",
      "source": [
        "#Model C: Dense+BatchNorm + LeakyReLU(0.2)\n",
        "model_c=tf.keras.Sequential([\n",
        "        tf.keras.layers.Flatten(input_shape=(28,28)),\n",
        "        tf.keras.layers.Dense(64),\n",
        "        #배치 정규화 적용\n",
        "        tf.keras.layers.BatchNormalization(),\n",
        "        #LeakyReLU alpha=0.2 적용\n",
        "        tf.keras.layers.LeakyReLU(alpha=0.2),\n",
        "\n",
        "        tf.keras.layers.Dense(32),\n",
        "        #배치 정규화 적용\n",
        "        tf.keras.layers.BatchNormalization(),\n",
        "        #LeakyReLU alpha=0.2 적용\n",
        "        tf.keras.layers.LeakyReLU(alpha=0.2),\n",
        "\n",
        "        tf.keras.layers.Dense(10, activation='softmax')\n",
        "])\n",
        "\n",
        "#모델요약\n",
        "model_c.summary()"
      ],
      "metadata": {
        "colab": {
          "base_uri": "https://localhost:8080/"
        },
        "id": "lPO744nbcsxS",
        "outputId": "f90e2aa7-e1dc-4011-cdc7-bedfd4ca693d"
      },
      "execution_count": 11,
      "outputs": [
        {
          "output_type": "stream",
          "name": "stdout",
          "text": [
            "Model: \"sequential_3\"\n",
            "_________________________________________________________________\n",
            " Layer (type)                Output Shape              Param #   \n",
            "=================================================================\n",
            " flatten_3 (Flatten)         (None, 784)               0         \n",
            "                                                                 \n",
            " dense_15 (Dense)            (None, 64)                50240     \n",
            "                                                                 \n",
            " batch_normalization_4 (Bat  (None, 64)                256       \n",
            " chNormalization)                                                \n",
            "                                                                 \n",
            " leaky_re_lu_4 (LeakyReLU)   (None, 64)                0         \n",
            "                                                                 \n",
            " dense_16 (Dense)            (None, 32)                2080      \n",
            "                                                                 \n",
            " batch_normalization_5 (Bat  (None, 32)                128       \n",
            " chNormalization)                                                \n",
            "                                                                 \n",
            " leaky_re_lu_5 (LeakyReLU)   (None, 32)                0         \n",
            "                                                                 \n",
            " dense_17 (Dense)            (None, 10)                330       \n",
            "                                                                 \n",
            "=================================================================\n",
            "Total params: 53034 (207.16 KB)\n",
            "Trainable params: 52842 (206.41 KB)\n",
            "Non-trainable params: 192 (768.00 Byte)\n",
            "_________________________________________________________________\n"
          ]
        }
      ]
    },
    {
      "cell_type": "code",
      "source": [
        "model_a.compile(optimizer='adam', loss='sparse_categorical_crossentropy', metrics=['accuracy'])\n",
        "model_b.compile(optimizer='adam', loss='sparse_categorical_crossentropy', metrics=['accuracy'])\n",
        "model_c.compile(optimizer='adam', loss='sparse_categorical_crossentropy', metrics=['accuracy'])\n",
        "\n",
        "# Model A: Dense + ReLU\n",
        "history_a=model_a.fit(x_train, y_train,\n",
        "                      validation_data=(x_test,y_test),\n",
        "                      epochs=10)\n",
        "\n",
        "# Model B: Dense +BatchNorm+ReLU\n",
        "history_b=model_b.fit(x_train, y_train,\n",
        "                      validation_data=(x_test,y_test),\n",
        "                      epochs=10)\n",
        "\n",
        "# Model C: Dense+BatchNorm+ LeakyReLU(0.2)\n",
        "history_c=model_c.fit(x_train, y_train,\n",
        "                      validation_data=(x_test,y_test),\n",
        "                      epochs=10)"
      ],
      "metadata": {
        "colab": {
          "base_uri": "https://localhost:8080/"
        },
        "id": "6_Jhfpepc41U",
        "outputId": "e40cac49-1c76-4165-a909-6f0bcfe1337c"
      },
      "execution_count": 12,
      "outputs": [
        {
          "output_type": "stream",
          "name": "stdout",
          "text": [
            "Epoch 1/10\n",
            "1875/1875 [==============================] - 7s 3ms/step - loss: 0.3089 - accuracy: 0.9109 - val_loss: 0.1750 - val_accuracy: 0.9469\n",
            "Epoch 2/10\n",
            "1875/1875 [==============================] - 7s 4ms/step - loss: 0.1395 - accuracy: 0.9577 - val_loss: 0.1196 - val_accuracy: 0.9643\n",
            "Epoch 3/10\n",
            "1875/1875 [==============================] - 6s 3ms/step - loss: 0.0990 - accuracy: 0.9701 - val_loss: 0.1063 - val_accuracy: 0.9674\n",
            "Epoch 4/10\n",
            "1875/1875 [==============================] - 5s 3ms/step - loss: 0.0780 - accuracy: 0.9761 - val_loss: 0.0909 - val_accuracy: 0.9725\n",
            "Epoch 5/10\n",
            "1875/1875 [==============================] - 14s 8ms/step - loss: 0.0650 - accuracy: 0.9796 - val_loss: 0.0983 - val_accuracy: 0.9690\n",
            "Epoch 6/10\n",
            "1875/1875 [==============================] - 14s 7ms/step - loss: 0.0526 - accuracy: 0.9834 - val_loss: 0.1045 - val_accuracy: 0.9688\n",
            "Epoch 7/10\n",
            "1875/1875 [==============================] - 9s 5ms/step - loss: 0.0463 - accuracy: 0.9851 - val_loss: 0.0889 - val_accuracy: 0.9746\n",
            "Epoch 8/10\n",
            "1875/1875 [==============================] - 5s 3ms/step - loss: 0.0394 - accuracy: 0.9874 - val_loss: 0.0998 - val_accuracy: 0.9733\n",
            "Epoch 9/10\n",
            "1875/1875 [==============================] - 8s 4ms/step - loss: 0.0353 - accuracy: 0.9884 - val_loss: 0.0917 - val_accuracy: 0.9761\n",
            "Epoch 10/10\n",
            "1875/1875 [==============================] - 5s 3ms/step - loss: 0.0298 - accuracy: 0.9902 - val_loss: 0.1003 - val_accuracy: 0.9728\n",
            "Epoch 1/10\n",
            "1875/1875 [==============================] - 10s 5ms/step - loss: 0.3114 - accuracy: 0.9126 - val_loss: 0.1287 - val_accuracy: 0.9623\n",
            "Epoch 2/10\n",
            "1875/1875 [==============================] - 6s 3ms/step - loss: 0.1445 - accuracy: 0.9560 - val_loss: 0.1072 - val_accuracy: 0.9661\n",
            "Epoch 3/10\n",
            "1875/1875 [==============================] - 12s 6ms/step - loss: 0.1115 - accuracy: 0.9657 - val_loss: 0.0885 - val_accuracy: 0.9734\n",
            "Epoch 4/10\n",
            "1875/1875 [==============================] - 9s 5ms/step - loss: 0.0940 - accuracy: 0.9707 - val_loss: 0.1064 - val_accuracy: 0.9685\n",
            "Epoch 5/10\n",
            "1875/1875 [==============================] - 8s 4ms/step - loss: 0.0821 - accuracy: 0.9738 - val_loss: 0.0816 - val_accuracy: 0.9738\n",
            "Epoch 6/10\n",
            "1875/1875 [==============================] - 11s 6ms/step - loss: 0.0750 - accuracy: 0.9759 - val_loss: 0.0836 - val_accuracy: 0.9736\n",
            "Epoch 7/10\n",
            "1875/1875 [==============================] - 8s 4ms/step - loss: 0.0675 - accuracy: 0.9781 - val_loss: 0.0880 - val_accuracy: 0.9748\n",
            "Epoch 8/10\n",
            "1875/1875 [==============================] - 5s 3ms/step - loss: 0.0652 - accuracy: 0.9785 - val_loss: 0.0765 - val_accuracy: 0.9751\n",
            "Epoch 9/10\n",
            "1875/1875 [==============================] - 8s 4ms/step - loss: 0.0579 - accuracy: 0.9814 - val_loss: 0.0821 - val_accuracy: 0.9759\n",
            "Epoch 10/10\n",
            "1875/1875 [==============================] - 7s 4ms/step - loss: 0.0548 - accuracy: 0.9821 - val_loss: 0.0841 - val_accuracy: 0.9760\n",
            "Epoch 1/10\n",
            "1875/1875 [==============================] - 9s 4ms/step - loss: 0.3276 - accuracy: 0.9089 - val_loss: 0.1562 - val_accuracy: 0.9520\n",
            "Epoch 2/10\n",
            "1875/1875 [==============================] - 5s 3ms/step - loss: 0.1558 - accuracy: 0.9525 - val_loss: 0.1130 - val_accuracy: 0.9658\n",
            "Epoch 3/10\n",
            "1875/1875 [==============================] - 9s 5ms/step - loss: 0.1277 - accuracy: 0.9609 - val_loss: 0.1019 - val_accuracy: 0.9709\n",
            "Epoch 4/10\n",
            "1875/1875 [==============================] - 8s 4ms/step - loss: 0.1095 - accuracy: 0.9659 - val_loss: 0.0955 - val_accuracy: 0.9709\n",
            "Epoch 5/10\n",
            "1875/1875 [==============================] - 7s 4ms/step - loss: 0.0945 - accuracy: 0.9697 - val_loss: 0.1114 - val_accuracy: 0.9660\n",
            "Epoch 6/10\n",
            "1875/1875 [==============================] - 8s 4ms/step - loss: 0.0874 - accuracy: 0.9719 - val_loss: 0.0922 - val_accuracy: 0.9707\n",
            "Epoch 7/10\n",
            "1875/1875 [==============================] - 6s 3ms/step - loss: 0.0808 - accuracy: 0.9741 - val_loss: 0.0889 - val_accuracy: 0.9724\n",
            "Epoch 8/10\n",
            "1875/1875 [==============================] - 10s 5ms/step - loss: 0.0754 - accuracy: 0.9755 - val_loss: 0.0890 - val_accuracy: 0.9741\n",
            "Epoch 9/10\n",
            "1875/1875 [==============================] - 6s 3ms/step - loss: 0.0703 - accuracy: 0.9764 - val_loss: 0.0805 - val_accuracy: 0.9759\n",
            "Epoch 10/10\n",
            "1875/1875 [==============================] - 7s 4ms/step - loss: 0.0647 - accuracy: 0.9785 - val_loss: 0.0793 - val_accuracy: 0.9759\n"
          ]
        }
      ]
    },
    {
      "cell_type": "code",
      "source": [
        "import matplotlib.pyplot as plt\n",
        "import numpy as np\n",
        "\n",
        "plt.figure(figsize=(12,9))\n",
        "plt.plot(np.arange(1,11),history_a.history['val_loss'],color='navy', linestyle=':')\n",
        "plt.plot(np.arange(1,11),history_b.history['val_loss'],color='tomato', linestyle='-.')\n",
        "plt.plot(np.arange(1,11),history_c.history['val_loss'],color='green', linestyle='-')\n",
        "\n",
        "plt.title('Losses',fontsize=20)\n",
        "plt.xlabel('epochs')\n",
        "plt.ylabel('Losses')\n",
        "plt.legend(['ReLU','BatchNorm+ReLU','batchnorm+LeakyReLU'],fontsize=12)\n",
        "plt.show()"
      ],
      "metadata": {
        "colab": {
          "base_uri": "https://localhost:8080/",
          "height": 537
        },
        "id": "vy5A2VTgc85c",
        "outputId": "ca51c727-d4e9-4879-e2d6-d2cfe437e8e5"
      },
      "execution_count": 13,
      "outputs": [
        {
          "output_type": "display_data",
          "data": {
            "text/plain": [
              "<Figure size 1200x900 with 1 Axes>"
            ],
            "image/png": "[encoded data removed]"
          },
          "metadata": {}
        }
      ]
    },
    {
      "cell_type": "markdown",
      "source": [
        "#6. 모델 저장 및 불러오기"
      ],
      "metadata": {
        "id": "BeyCKdW6dHFo"
      }
    },
    {
      "cell_type": "code",
      "source": [
        "import tensorflow as tf\n",
        "\n",
        "#케라스의 내장 데이터셋에서 mnist 데이터셋 로드\n",
        "mnist=tf.keras.datasets.mnist\n",
        "\n"
      ],
      "metadata": {
        "id": "yfVJmMLedGDF"
      },
      "execution_count": null,
      "outputs": []
    },
    {
      "cell_type": "markdown",
      "source": [
        "##6-1. 모델을 파일로 저장"
      ],
      "metadata": {
        "id": "TQOEKKb1djED"
      }
    },
    {
      "cell_type": "code",
      "source": [
        "#모델을 h5 포맷으로 저장\n",
        "model_c.save(\"h5-model.h5\")"
      ],
      "metadata": {
        "colab": {
          "base_uri": "https://localhost:8080/"
        },
        "id": "MPkPgeUxdmIG",
        "outputId": "90dccd6f-71c4-4466-b1ba-c494ecb7ee6d"
      },
      "execution_count": 14,
      "outputs": [
        {
          "output_type": "stream",
          "name": "stderr",
          "text": [
            "/usr/local/lib/python3.10/dist-packages/keras/src/engine/training.py:3103: UserWarning: You are saving your model as an HDF5 file via `model.save()`. This file format is considered legacy. We recommend using instead the native Keras format, e.g. `model.save('my_model.keras')`.\n",
            "  saving_api.save_model(\n"
          ]
        }
      ]
    },
    {
      "cell_type": "markdown",
      "source": [
        "##6-2. 저장된 모델 복원"
      ],
      "metadata": {
        "id": "ofwECJm5dxR4"
      }
    },
    {
      "cell_type": "code",
      "source": [
        "#모델복원\n",
        "h5_model = tf.keras.models.load_model(\"h5-model.h5\")\n",
        "h5_model.summary()"
      ],
      "metadata": {
        "colab": {
          "base_uri": "https://localhost:8080/"
        },
        "id": "15-JrfIbdhvs",
        "outputId": "f2309801-3c1f-4ccd-a9ca-f7398f725d5a"
      },
      "execution_count": 15,
      "outputs": [
        {
          "output_type": "stream",
          "name": "stdout",
          "text": [
            "Model: \"sequential_3\"\n",
            "_________________________________________________________________\n",
            " Layer (type)                Output Shape              Param #   \n",
            "=================================================================\n",
            " flatten_3 (Flatten)         (None, 784)               0         \n",
            "                                                                 \n",
            " dense_15 (Dense)            (None, 64)                50240     \n",
            "                                                                 \n",
            " batch_normalization_4 (Bat  (None, 64)                256       \n",
            " chNormalization)                                                \n",
            "                                                                 \n",
            " leaky_re_lu_4 (LeakyReLU)   (None, 64)                0         \n",
            "                                                                 \n",
            " dense_16 (Dense)            (None, 32)                2080      \n",
            "                                                                 \n",
            " batch_normalization_5 (Bat  (None, 32)                128       \n",
            " chNormalization)                                                \n",
            "                                                                 \n",
            " leaky_re_lu_5 (LeakyReLU)   (None, 32)                0         \n",
            "                                                                 \n",
            " dense_17 (Dense)            (None, 10)                330       \n",
            "                                                                 \n",
            "=================================================================\n",
            "Total params: 53034 (207.16 KB)\n",
            "Trainable params: 52842 (206.41 KB)\n",
            "Non-trainable params: 192 (768.00 Byte)\n",
            "_________________________________________________________________\n"
          ]
        }
      ]
    },
    {
      "cell_type": "code",
      "source": [
        "#모델 검증\n",
        "loss,acc = h5_model.evaluate(x_test, y_test, verbose=0)\n",
        "print(f'h5model]loss:{loss:5f},acc:{acc:5f}')"
      ],
      "metadata": {
        "colab": {
          "base_uri": "https://localhost:8080/"
        },
        "id": "B0ErBMpqd7a5",
        "outputId": "301ba151-4347-46ed-df82-626d173b609b"
      },
      "execution_count": 16,
      "outputs": [
        {
          "output_type": "stream",
          "name": "stdout",
          "text": [
            "h5model]loss:0.079256,acc:0.975900\n"
          ]
        }
      ]
    },
    {
      "cell_type": "code",
      "source": [
        "#모델을 SavedModel 포맷으로 저장\n",
        "model_c.save('saved-model')"
      ],
      "metadata": {
        "id": "0T2egxkTd_kj"
      },
      "execution_count": 17,
      "outputs": []
    },
    {
      "cell_type": "code",
      "source": [
        "#모델 복원\n",
        "saved_model=tf.keras.models.load_model('saved-model')\n",
        "saved_model.summary()"
      ],
      "metadata": {
        "colab": {
          "base_uri": "https://localhost:8080/"
        },
        "id": "X_eZJhoDeJHL",
        "outputId": "2e0dd376-4f5d-4f66-dcd3-15503c28bfc6"
      },
      "execution_count": 18,
      "outputs": [
        {
          "output_type": "stream",
          "name": "stdout",
          "text": [
            "Model: \"sequential_3\"\n",
            "_________________________________________________________________\n",
            " Layer (type)                Output Shape              Param #   \n",
            "=================================================================\n",
            " flatten_3 (Flatten)         (None, 784)               0         \n",
            "                                                                 \n",
            " dense_15 (Dense)            (None, 64)                50240     \n",
            "                                                                 \n",
            " batch_normalization_4 (Bat  (None, 64)                256       \n",
            " chNormalization)                                                \n",
            "                                                                 \n",
            " leaky_re_lu_4 (LeakyReLU)   (None, 64)                0         \n",
            "                                                                 \n",
            " dense_16 (Dense)            (None, 32)                2080      \n",
            "                                                                 \n",
            " batch_normalization_5 (Bat  (None, 32)                128       \n",
            " chNormalization)                                                \n",
            "                                                                 \n",
            " leaky_re_lu_5 (LeakyReLU)   (None, 32)                0         \n",
            "                                                                 \n",
            " dense_17 (Dense)            (None, 10)                330       \n",
            "                                                                 \n",
            "=================================================================\n",
            "Total params: 53034 (207.16 KB)\n",
            "Trainable params: 52842 (206.41 KB)\n",
            "Non-trainable params: 192 (768.00 Byte)\n",
            "_________________________________________________________________\n"
          ]
        }
      ]
    },
    {
      "cell_type": "code",
      "source": [
        "#모델 검증(HDF5 포맷)\n",
        "loss,acc=h5_model.evaluate(x_test, y_test, verbose=0)\n",
        "print(f'h5model]loss:{loss:5f},acc:{acc:5f}')\n",
        "\n",
        "#모델 검증(SavedModel 포맷)\n",
        "loss,acc=saved_model.evaluate(x_test, y_test, verbose=0)\n",
        "print(f'saved_model]loss:{loss:5f},acc:{acc:5f}')"
      ],
      "metadata": {
        "colab": {
          "base_uri": "https://localhost:8080/"
        },
        "id": "QZ6ABIaeeQDE",
        "outputId": "23742d7b-d728-422f-b473-7cf36d9590f0"
      },
      "execution_count": 19,
      "outputs": [
        {
          "output_type": "stream",
          "name": "stdout",
          "text": [
            "h5model]loss:0.079256,acc:0.975900\n",
            "saved_model]loss:0.079256,acc:0.975900\n"
          ]
        }
      ]
    },
    {
      "cell_type": "markdown",
      "source": [
        "#7. 복잡한 모델 생성\n",
        "##7-1. 함수형 API(Functional API)"
      ],
      "metadata": {
        "id": "XWmxGlGJeTce"
      }
    },
    {
      "cell_type": "code",
      "source": [
        "import tensorflow as tf\n",
        "\n",
        "#케라스의 내장 데이터셋에서 mnist 데이터셋 로드\n",
        "mnist=tf.keras.datasets.mnist\n"
      ],
      "metadata": {
        "id": "zpzNwwQKef0i"
      },
      "execution_count": null,
      "outputs": []
    },
    {
      "cell_type": "code",
      "source": [
        "#모델의 레이어를 체인 구조로 연결 Input 레이어 정의\n",
        "input_layer=tf.keras.Input(shape=(28,28),name='InputLayer')\n",
        "\n",
        "#모델의 레이어를 체인 구조로 연결\n",
        "x1=tf.keras.layers.Flatten(name='Flatten')(input_layer)\n",
        "x2=tf.keras.layers.Dense(256, activation='relu',name='Dense1')(x1)\n",
        "x3=tf.keras.layers.Dense(64, activation='relu',name='Dense2')(x2)\n",
        "x4=tf.keras.layers.Dense(10, activation='softmax',name='OutputLayer')(x3)"
      ],
      "metadata": {
        "id": "0PUYC7foegvQ"
      },
      "execution_count": 20,
      "outputs": []
    },
    {
      "cell_type": "code",
      "source": [
        "#모델 생성\n",
        "func_model=tf.keras.Model(inputs=input_layer,outputs=x4, name='FunctionalModel')\n",
        "\n",
        "#모델 요약\n",
        "func_model.summary()"
      ],
      "metadata": {
        "colab": {
          "base_uri": "https://localhost:8080/"
        },
        "id": "JDVpF0p-eoEa",
        "outputId": "99c9247a-4aec-428c-f819-b5a52ff041f7"
      },
      "execution_count": 21,
      "outputs": [
        {
          "output_type": "stream",
          "name": "stdout",
          "text": [
            "Model: \"FunctionalModel\"\n",
            "_________________________________________________________________\n",
            " Layer (type)                Output Shape              Param #   \n",
            "=================================================================\n",
            " InputLayer (InputLayer)     [(None, 28, 28)]          0         \n",
            "                                                                 \n",
            " Flatten (Flatten)           (None, 784)               0         \n",
            "                                                                 \n",
            " Dense1 (Dense)              (None, 256)               200960    \n",
            "                                                                 \n",
            " Dense2 (Dense)              (None, 64)                16448     \n",
            "                                                                 \n",
            " OutputLayer (Dense)         (None, 10)                650       \n",
            "                                                                 \n",
            "=================================================================\n",
            "Total params: 218058 (851.79 KB)\n",
            "Trainable params: 218058 (851.79 KB)\n",
            "Non-trainable params: 0 (0.00 Byte)\n",
            "_________________________________________________________________\n"
          ]
        }
      ]
    },
    {
      "cell_type": "code",
      "source": [
        "from tensorflow.keras.utils import plot_model\n",
        "\n",
        "#구조도 시각화\n",
        "plot_model(func_model, show_shapes=True, show_layer_names=True, to_file='model.png')"
      ],
      "metadata": {
        "colab": {
          "base_uri": "https://localhost:8080/",
          "height": 533
        },
        "id": "DPWyHW4Peubj",
        "outputId": "e83e4dcd-49e1-4fdb-b634-804ce69726cd"
      },
      "execution_count": 22,
      "outputs": [
        {
          "output_type": "execute_result",
          "data": {
            "image/png": "[encoded data removed]",
            "text/plain": [
              "<IPython.core.display.Image object>"
            ]
          },
          "metadata": {},
          "execution_count": 22
        }
      ]
    },
    {
      "cell_type": "code",
      "source": [
        "#컴파일\n",
        "func_model.compile(optimizer='adam',loss='sparse_categorical_crossentropy',\n",
        "                   metrics=['accuracy'])\n",
        "\n",
        "#훈련\n",
        "func_model.fit(x_train, y_train, epochs=3)\n",
        "\n",
        "#검증\n",
        "loss,acc=func_model.evaluate(x_test, y_test, verbose=0)\n",
        "print(f'Functional Model]loss:{loss:5f},acc:{acc:5f}')"
      ],
      "metadata": {
        "colab": {
          "base_uri": "https://localhost:8080/"
        },
        "id": "WEBLo68ZexLN",
        "outputId": "1d3a97ad-b6b8-46e9-adb3-5dc64a4afc43"
      },
      "execution_count": 23,
      "outputs": [
        {
          "output_type": "stream",
          "name": "stdout",
          "text": [
            "Epoch 1/3\n",
            "1875/1875 [==============================] - 13s 7ms/step - loss: 0.2144 - accuracy: 0.9373\n",
            "Epoch 2/3\n",
            "1875/1875 [==============================] - 13s 7ms/step - loss: 0.0885 - accuracy: 0.9728\n",
            "Epoch 3/3\n",
            "1875/1875 [==============================] - 10s 5ms/step - loss: 0.0599 - accuracy: 0.9812\n",
            "Functional Model]loss:0.079353,acc:0.976600\n"
          ]
        }
      ]
    },
    {
      "cell_type": "markdown",
      "source": [
        "##7-2. 모델 서브클래싱(Model Subclassing)"
      ],
      "metadata": {
        "id": "TbiuRE0Je3NP"
      }
    },
    {
      "cell_type": "code",
      "source": [
        "class MyModel(tf.keras.Model):\n",
        "    def __init__(self, units, num_classes):\n",
        "        super(MyModel,self).__init__()\n",
        "        #초기값 설정\n",
        "        self.flatten = tf.keras.layers.Flatten()\n",
        "        self.dense1 = tf.keras.layers.Dense(units,activation=\"relu\")\n",
        "        self.dense2 = tf.keras.layers.Dense(units/4,activation=\"relu\")\n",
        "        self.dense3 = tf.keras.layers.Dense(num_classes,activation=\"softmax\")\n",
        "\n",
        "    # method overiding\n",
        "    # 훈련용 함수 정의\n",
        "    # x는 input\n",
        "    def call(self,x):\n",
        "        x = self.flatten(x)\n",
        "        x = self.dense1(x)\n",
        "        x = self.dense2(x)\n",
        "        x = self.dense3(x)\n",
        "        return x"
      ],
      "metadata": {
        "id": "ZofyRg8lfDBl"
      },
      "execution_count": 24,
      "outputs": []
    },
    {
      "cell_type": "code",
      "source": [
        "# 모델 생성\n",
        "mymodel = MyModel(256,10)\n",
        "\n",
        "#모델의 이름 설정\n",
        "mymodel._name = 'subclass_model'\n",
        "\n",
        "# 모델 input 정의\n",
        "mymodel(tf.keras.layers.Input(shape=(28,28)))\n",
        "\n",
        "# 모델 요약\n",
        "mymodel.summary()"
      ],
      "metadata": {
        "colab": {
          "base_uri": "https://localhost:8080/"
        },
        "id": "WN0VyC8yfLU-",
        "outputId": "db6396c2-3960-4caa-9a8f-08a5828836f4"
      },
      "execution_count": 27,
      "outputs": [
        {
          "output_type": "stream",
          "name": "stdout",
          "text": [
            "Model: \"subclass_model\"\n",
            "_________________________________________________________________\n",
            " Layer (type)                Output Shape              Param #   \n",
            "=================================================================\n",
            " flatten_5 (Flatten)         multiple                  0         \n",
            "                                                                 \n",
            " dense_21 (Dense)            multiple                  200960    \n",
            "                                                                 \n",
            " dense_22 (Dense)            multiple                  16448     \n",
            "                                                                 \n",
            " dense_23 (Dense)            multiple                  650       \n",
            "                                                                 \n",
            "=================================================================\n",
            "Total params: 218058 (851.79 KB)\n",
            "Trainable params: 218058 (851.79 KB)\n",
            "Non-trainable params: 0 (0.00 Byte)\n",
            "_________________________________________________________________\n"
          ]
        }
      ]
    },
    {
      "cell_type": "code",
      "source": [
        "#컴파일\n",
        "mymodel.compile(optimizer=\"adam\", loss=\"sparse_categorical_crossentropy\",metrics=[\"accuracy\"])\n",
        "\n",
        "#훈련\n",
        "mymodel.fit(x_train,y_train, epochs=3)\n",
        "\n",
        "#검증\n",
        "loss, acc = mymodel.evaluate(x_test,y_test,verbose=0)\n",
        "print(f\"Subclassing Model w.parameters]loss:{loss:.5f}.acc:{acc:.5f}\")"
      ],
      "metadata": {
        "colab": {
          "base_uri": "https://localhost:8080/"
        },
        "id": "EnAFPI8VfgKA",
        "outputId": "c76021d6-8c40-49cf-9909-f9b62a17cf34"
      },
      "execution_count": 28,
      "outputs": [
        {
          "output_type": "stream",
          "name": "stdout",
          "text": [
            "Epoch 1/3\n",
            "1875/1875 [==============================] - 11s 5ms/step - loss: 0.2134 - accuracy: 0.9360\n",
            "Epoch 2/3\n",
            "1875/1875 [==============================] - 9s 5ms/step - loss: 0.0884 - accuracy: 0.9722\n",
            "Epoch 3/3\n",
            "1875/1875 [==============================] - 11s 6ms/step - loss: 0.0599 - accuracy: 0.9809\n",
            "Subclassing Model w.parameters]loss:0.08756.acc:0.97200\n"
          ]
        }
      ]
    },
    {
      "cell_type": "markdown",
      "source": [
        "##7-3. 서브클래싱 모델 파라미터를 활용한 생성"
      ],
      "metadata": {
        "id": "1gvC6J_cfuFH"
      }
    },
    {
      "cell_type": "code",
      "source": [
        "class Mymodel(tf.keras.Model):\n",
        "\n",
        "  #생성자 파라미터 추가\n",
        "  def __init__(self,units,num_classes):\n",
        "    super(Mymodel,self).__init__()\n",
        "    #초기값 설정\n",
        "    self.flatten = tf.keras.layers.Flatten()\n",
        "    self.dense1 = tf.keras.layers.Dense(units,activation=\"relu\")\n",
        "    self.dense2 = tf.keras.layers.Dense(units/4,activation=\"relu\")\n",
        "    self.dense3 = tf.keras.layers.Dense(num_classes,activation=\"softmax\")\n",
        "\n",
        "  #class overiding\n",
        "  #훈련용 함수 정의\n",
        "  #x는 input\n",
        "  def call(self,x):\n",
        "    x = self.flatten(x)\n",
        "    x = self.dense1(x)\n",
        "    x = self.dense2(x)\n",
        "    x = self.dense3(x)\n",
        "    return x"
      ],
      "metadata": {
        "id": "-FiTAzExfz4I"
      },
      "execution_count": 29,
      "outputs": []
    },
    {
      "cell_type": "code",
      "source": [
        "#모델 생성\n",
        "mymodel = Mymodel(256,10)\n",
        "\n",
        "#모델 input 정의\n",
        "mymodel(tf.keras.layers.Input(shape=(28,28)))\n",
        "\n",
        "#모델 요약\n",
        "mymodel.summary()"
      ],
      "metadata": {
        "colab": {
          "base_uri": "https://localhost:8080/"
        },
        "id": "8PnU5Ir1gP_l",
        "outputId": "1d38301a-6b4c-40a8-9175-aa2e627e9fb4"
      },
      "execution_count": 30,
      "outputs": [
        {
          "output_type": "stream",
          "name": "stdout",
          "text": [
            "Model: \"mymodel\"\n",
            "_________________________________________________________________\n",
            " Layer (type)                Output Shape              Param #   \n",
            "=================================================================\n",
            " flatten_6 (Flatten)         multiple                  0         \n",
            "                                                                 \n",
            " dense_24 (Dense)            multiple                  200960    \n",
            "                                                                 \n",
            " dense_25 (Dense)            multiple                  16448     \n",
            "                                                                 \n",
            " dense_26 (Dense)            multiple                  650       \n",
            "                                                                 \n",
            "=================================================================\n",
            "Total params: 218058 (851.79 KB)\n",
            "Trainable params: 218058 (851.79 KB)\n",
            "Non-trainable params: 0 (0.00 Byte)\n",
            "_________________________________________________________________\n"
          ]
        }
      ]
    },
    {
      "cell_type": "code",
      "source": [
        "#컴파일\n",
        "mymodel.compile(optimizer=\"adam\", loss=\"sparse_categorical_crossentropy\",\n",
        "                metrics=[\"accuracy\"])\n",
        "\n",
        "#훈련\n",
        "mymodel.fit(x_train,y_train, epochs=3)\n",
        "\n",
        "#검증\n",
        "loss, acc = mymodel.evaluate(x_test,y_test,verbose=0)\n",
        "print(f\"Subclassing Model w.parameters]loss:{loss:.5f}.acc:{acc:.5f}\")"
      ],
      "metadata": {
        "colab": {
          "base_uri": "https://localhost:8080/"
        },
        "id": "deg2LeyhggVt",
        "outputId": "5f962179-e2fb-4525-f9a1-9d16895c55a1"
      },
      "execution_count": 32,
      "outputs": [
        {
          "output_type": "stream",
          "name": "stdout",
          "text": [
            "Epoch 1/3\n",
            "1875/1875 [==============================] - 9s 4ms/step - loss: 0.0474 - accuracy: 0.9849\n",
            "Epoch 2/3\n",
            "1875/1875 [==============================] - 9s 5ms/step - loss: 0.0356 - accuracy: 0.9886\n",
            "Epoch 3/3\n",
            "1875/1875 [==============================] - 9s 5ms/step - loss: 0.0301 - accuracy: 0.9900\n",
            "Subclassing Model w.parameters]loss:0.07918.acc:0.97840\n"
          ]
        }
      ]
    }
  ]
}