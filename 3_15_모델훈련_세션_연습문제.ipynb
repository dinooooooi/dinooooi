{
  "nbformat": 4,
  "nbformat_minor": 0,
  "metadata": {
    "colab": {
      "provenance": [],
      "include_colab_link": true
    },
    "kernelspec": {
      "name": "python3",
      "display_name": "Python 3"
    },
    "language_info": {
      "name": "python"
    }
  },
  "cells": [
    {
      "cell_type": "markdown",
      "metadata": {
        "id": "view-in-github",
        "colab_type": "text"
      },
      "source": [
        "<a href=\"https://colab.research.google.com/github/dinooooooi/dinooooi/blob/main/3_15_%EB%AA%A8%EB%8D%B8%ED%9B%88%EB%A0%A8_%EC%84%B8%EC%85%98_%EC%97%B0%EC%8A%B5%EB%AC%B8%EC%A0%9C.ipynb\" target=\"_parent\"><img src=\"https://colab.research.google.com/assets/colab-badge.svg\" alt=\"Open In Colab\"/></a>"
      ]
    },
    {
      "cell_type": "markdown",
      "source": [
        "## **| 모델 훈련 연습 문제**\n",
        "___\n",
        "- 출처 : 핸즈온 머신러닝 Ch04 연습문제 1, 5, 9, 10\n",
        "- 개념 문제의 경우 텍스트 셀을 추가하여 정답을 적어주세요."
      ],
      "metadata": {
        "id": "zCu72vDHGMHo"
      }
    },
    {
      "cell_type": "markdown",
      "source": [
        "### **1. 수백만 개의 특성을 가진 훈련 세트에서는 어떤 선형 회귀 알고리즘을 사용할 수 있을까요?**\n",
        "___\n",
        "라쏘"
      ],
      "metadata": {
        "id": "j3g-_Dq9GiuT"
      }
    },
    {
      "cell_type": "markdown",
      "source": [
        "### **2. 배치 경사 하강법을 사용하고 에포크마다 검증 오차를 그래프로 나타내봤습니다. 검증 오차가 일정하게 상승되고 있다면 어떤 일이 일어나고 있는 걸까요? 이 문제를 어떻게 해결할 수 있나요?**\n",
        "___\n",
        "학습률이 너무 높음\n",
        "반복 횟수를 지정해서 최적점이 도달했을 때 멈추도록 알고리즘 설정"
      ],
      "metadata": {
        "id": "-pDjW5XcHPOt"
      }
    },
    {
      "cell_type": "markdown",
      "source": [
        "### **3. 릿지 회귀를 사용했을 때 훈련 오차가 검증 오차가 거의 비슷하고 둘 다 높았습니다. 이 모델에는 높은 편향이 문제인가요, 아니면 높은 분산이 문제인가요? 규제 하이퍼파라미터 $\\alpha$를 증가시켜야 할까요 아니면 줄여야 할까요?**\n",
        "___\n",
        "높은 편향\n",
        "규제 파라미터 감소"
      ],
      "metadata": {
        "id": "nM7JbsLoy7b7"
      }
    },
    {
      "cell_type": "markdown",
      "source": [
        "### **4. 다음과 같이 사용해야 하는 이유는?**\n",
        "___\n",
        "- 평범한 선형 회귀(즉, 아무런 규제가 없는 모델) 대신 릿지 회귀\n",
        "- 릿지 회귀 대신 라쏘 회귀\n",
        "- 라쏘 회귀 대신 엘라스틱넷\n",
        "\n",
        "규제가 있는 모델이 규제가 없는 모델에 비해 성능이 좋음\n",
        "라쏘 회귀는 l1패널티를 사용하여 가장 중요한 가중치를 제외하고는 모두 0이 되는 희소한(Sparse)한 모델을 만듦. \"자동으로 특성 선택\"의 효과를 가지므로 단지 몇 개의 특성만 실제 유용할 것이라고 의심될 때 사용. 확신이 없다면 릿지 회귀.\n",
        "몇 개의 특성이 강하게 연관되어 있거나 특성 수가 훈련 샘플보다 많을 때 라쏘가 불규칙적으로 행동하여 엘라스틱넷이 더 선호. 추가적인 하이퍼파라미터가 생기는 단점. 불규칙한 행동이 없는 라쏘를 원하면 엘라스틱넷에 l1_ratio를 1에 가깝게 하면 된다.(ratio = 0(Ridge) ~ 1(Lasso))"
      ],
      "metadata": {
        "id": "C8tARu-ZzOGx"
      }
    },
    {
      "cell_type": "markdown",
      "source": [
        "### **추가) 조기 종료를 사용한 배치 경사 하강법으로 iris 데이터를 활용해 소프트맥스 회귀를 구현해보세요(사이킷런은 사용하지 마세요)**\n",
        "\n",
        "\n",
        "---\n",
        "\n"
      ],
      "metadata": {
        "id": "QIZpOEYJVIAV"
      }
    },
    {
      "cell_type": "code",
      "source": [
        "import numpy as np\n",
        "import matplotlib.pyplot as plt"
      ],
      "metadata": {
        "id": "8pXDQ_fU8Nz0"
      },
      "execution_count": 1,
      "outputs": []
    },
    {
      "cell_type": "code",
      "source": [
        "from sklearn import datasets\n",
        "iris = datasets.load_iris()\n",
        "X = iris['data'][:,(2,3)]\n",
        "y = iris['target']"
      ],
      "metadata": {
        "id": "3JVPpeicgjpw"
      },
      "execution_count": 2,
      "outputs": []
    },
    {
      "cell_type": "code",
      "source": [
        "# Add Bias\n",
        "X_with_bias = np.c_[np.ones([len(X),1]),X]\n",
        "# len(X) 개수 만큼 1로 채워진 [ ], [ ]......[ ] array\n",
        "# 2열 -> 3열로 늘어남"
      ],
      "metadata": {
        "id": "857EsqPwjPFl"
      },
      "execution_count": 4,
      "outputs": []
    },
    {
      "cell_type": "code",
      "source": [
        "# 결과를 일정하게 하기 위해, random seed 배정\n",
        "np.random.seed(1234)"
      ],
      "metadata": {
        "id": "2YbydIuMjPiI"
      },
      "execution_count": 5,
      "outputs": []
    },
    {
      "cell_type": "code",
      "source": [
        "# 원래면 sklearn의 train_test_split을 사용하지만, 직접 만들면서 원리 이해하기\n",
        "test_ratio = 0.2\n",
        "validation_ratio = 0.2\n",
        "total_size = len(X_with_bias)\n",
        "\n",
        "test_size = int(total_size * test_ratio)\n",
        "validation_size = int(total_size * validation_ratio)\n",
        "train_size = total_size - test_size - validation_size\n",
        "\n",
        "rnd_indices = np.random.permutation(total_size)    # 150을 무작위로 섞음\n",
        "\n",
        "X_train = X_with_bias[rnd_indices[:train_size]]\n",
        "y_train = y[rnd_indices[:train_size]]\n",
        "X_valid = X_with_bias[rnd_indices[train_size:-test_size]]  # test_size 만큼 남겨둠\n",
        "y_valid = y[rnd_indices[train_size:-test_size]]\n",
        "X_test = X_with_bias[rnd_indices[-test_size:]]\n",
        "y_test = y[rnd_indices[-test_size:]]"
      ],
      "metadata": {
        "id": "Gi8Ao0DZjPrS"
      },
      "execution_count": 6,
      "outputs": []
    },
    {
      "cell_type": "code",
      "source": [
        "#클래스를 OneHot Vector로 바꾸기\n",
        "def to_one_hot(y):\n",
        "    n_classes = y.max()+1    # 0,1,2 라 max=2 / +1 하면 classes 개수\n",
        "    m = len(y)                     # 총 150개의 라벨들\n",
        "    y_one_hot = np.zeros((m,n_classes))\n",
        "    y_one_hot[np.arange(m),y] = 1   # index의 행중에 y값을 1로 치환\n",
        "    return y_one_hot"
      ],
      "metadata": {
        "id": "ZJyhyh3cja1j"
      },
      "execution_count": 7,
      "outputs": []
    },
    {
      "cell_type": "code",
      "source": [
        "y_train[:10]"
      ],
      "metadata": {
        "colab": {
          "base_uri": "https://localhost:8080/"
        },
        "id": "5srPpWdPjeEf",
        "outputId": "a66c2b78-be79-4d56-b062-42cd534b881a"
      },
      "execution_count": 8,
      "outputs": [
        {
          "output_type": "execute_result",
          "data": {
            "text/plain": [
              "array([1, 1, 2, 0, 1, 0, 0, 0, 1, 2])"
            ]
          },
          "metadata": {},
          "execution_count": 8
        }
      ]
    },
    {
      "cell_type": "code",
      "source": [
        "to_one_hot(y_train[:10])   # one hot encoding이 된 것을 확인할 수 있다."
      ],
      "metadata": {
        "colab": {
          "base_uri": "https://localhost:8080/"
        },
        "id": "H3BYrZl1jjII",
        "outputId": "d7986608-cbfd-4c02-f240-25827e294597"
      },
      "execution_count": 9,
      "outputs": [
        {
          "output_type": "execute_result",
          "data": {
            "text/plain": [
              "array([[0., 1., 0.],\n",
              "       [0., 1., 0.],\n",
              "       [0., 0., 1.],\n",
              "       [1., 0., 0.],\n",
              "       [0., 1., 0.],\n",
              "       [1., 0., 0.],\n",
              "       [1., 0., 0.],\n",
              "       [1., 0., 0.],\n",
              "       [0., 1., 0.],\n",
              "       [0., 0., 1.]])"
            ]
          },
          "metadata": {},
          "execution_count": 9
        }
      ]
    },
    {
      "cell_type": "code",
      "source": [
        "# 라벨 전부를 onehot encoding하기\n",
        "y_train_one_hot = to_one_hot(y_train)\n",
        "y_valid_one_hot = to_one_hot(y_valid)\n",
        "y_test_one_hot = to_one_hot(y_test)"
      ],
      "metadata": {
        "id": "RZ-v5YAojlGx"
      },
      "execution_count": 10,
      "outputs": []
    },
    {
      "cell_type": "code",
      "source": [
        "# Softmax 함수 만들기\n",
        "\n",
        "def softmax(logits):\n",
        "    exps = np.exp(logits)\n",
        "    exp_sums = np.sum(exps,axis=1,keepdims=True)   # axis=1   ->  가장 안쪽의 [ ] 안의 성분의 합 / 각 exps들의 합\n",
        "    return exps/exp_sums"
      ],
      "metadata": {
        "id": "8VCLW1nejpX0"
      },
      "execution_count": 11,
      "outputs": []
    },
    {
      "cell_type": "code",
      "source": [
        "# 입력과 출력의 갯수 정하기\n",
        "n_inputs = X_train.shape[1]   # (90,3) 인데 1로 인덱싱 ==3\n",
        "n_outputs = len(np.unique(y_train))  # y_train값을 중복되지 않는 값들을 출력"
      ],
      "metadata": {
        "id": "xktpjcicjuFr"
      },
      "execution_count": 12,
      "outputs": []
    },
    {
      "cell_type": "code",
      "source": [
        "eta = 0.01\n",
        "n_iteration = 5001\n",
        "m = len(X_train)\n",
        "epsilon = 1e-7 # ε : 입실론     nan값을 피하기 위해 logPi에 추가.\n",
        "\n",
        "Theta = np.random.randn(n_inputs,n_outputs)\n",
        "\n",
        "for i in range(n_iteration):\n",
        "    logits = X_train.dot(Theta)\n",
        "    Y_proba = softmax(logits)\n",
        "    loss = -np.mean(np.sum(y_train_one_hot * np.log(Y_proba + epsilon), axis=1))\n",
        "    error = Y_proba - y_train_one_hot\n",
        "    if i % 500 == 0:\n",
        "        print(i,loss)\n",
        "    gradients = 1/m * X_train.T.dot(error)\n",
        "    Theta = Theta - eta * gradients"
      ],
      "metadata": {
        "colab": {
          "base_uri": "https://localhost:8080/"
        },
        "id": "d_RQMocWj1kl",
        "outputId": "4831a054-923b-4595-cb48-f409bc82f050"
      },
      "execution_count": 15,
      "outputs": [
        {
          "output_type": "stream",
          "name": "stdout",
          "text": [
            "0 5.939689637087506\n",
            "500 0.6761928701492761\n",
            "1000 0.5915767836190149\n",
            "1500 0.5373186654938873\n",
            "2000 0.4989381869617798\n",
            "2500 0.46980603649807684\n",
            "3000 0.44654275169383484\n",
            "3500 0.4272620748286454\n",
            "4000 0.4108310489443091\n",
            "4500 0.3965275443396283\n",
            "5000 0.38386834549103244\n"
          ]
        }
      ]
    },
    {
      "cell_type": "code",
      "source": [
        "Theta"
      ],
      "metadata": {
        "colab": {
          "base_uri": "https://localhost:8080/"
        },
        "id": "cbFK92hvkFch",
        "outputId": "8f7c51d7-d909-43d1-ccb6-e49176fd592d"
      },
      "execution_count": 16,
      "outputs": [
        {
          "output_type": "execute_result",
          "data": {
            "text/plain": [
              "array([[ 3.2409793 , -1.35755915, -3.16942506],\n",
              "       [-0.94385709,  0.95618958,  0.35072304],\n",
              "       [-0.97280505, -1.56719451,  1.44922821]])"
            ]
          },
          "metadata": {},
          "execution_count": 16
        }
      ]
    },
    {
      "cell_type": "code",
      "source": [
        "logits = X_valid.dot(Theta)\n",
        "Y_proba = softmax(logits)\n",
        "y_predict = np.argmax(Y_proba,axis=1)\n",
        "\n",
        "acc = np.mean(y_predict == y_valid)\n",
        "acc"
      ],
      "metadata": {
        "colab": {
          "base_uri": "https://localhost:8080/"
        },
        "id": "Yzn30o74kXqy",
        "outputId": "33c9b7c2-496a-4854-86b0-9f7dfe8185e0"
      },
      "execution_count": 18,
      "outputs": [
        {
          "output_type": "execute_result",
          "data": {
            "text/plain": [
              "0.9"
            ]
          },
          "metadata": {},
          "execution_count": 18
        }
      ]
    }
  ]
}