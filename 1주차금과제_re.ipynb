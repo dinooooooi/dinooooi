{
  "nbformat": 4,
  "nbformat_minor": 0,
  "metadata": {
    "colab": {
      "provenance": [],
      "authorship_tag": "ABX9TyMOn+XZt5UIHYXETtp9Wdtd",
      "include_colab_link": true
    },
    "kernelspec": {
      "name": "python3",
      "display_name": "Python 3"
    },
    "language_info": {
      "name": "python"
    }
  },
  "cells": [
    {
      "cell_type": "markdown",
      "metadata": {
        "id": "view-in-github",
        "colab_type": "text"
      },
      "source": [
        "<a href=\"https://colab.research.google.com/github/dinooooooi/dinooooi/blob/main/1%EC%A3%BC%EC%B0%A8%EA%B8%88%EA%B3%BC%EC%A0%9C_re.ipynb\" target=\"_parent\"><img src=\"https://colab.research.google.com/assets/colab-badge.svg\" alt=\"Open In Colab\"/></a>"
      ]
    },
    {
      "cell_type": "code",
      "execution_count": 19,
      "metadata": {
        "colab": {
          "base_uri": "https://localhost:8080/",
          "height": 146
        },
        "id": "UPryekdMy57b",
        "outputId": "8ee65510-4c75-4304-db81-836c42cfbf57"
      },
      "outputs": [
        {
          "output_type": "error",
          "ename": "SyntaxError",
          "evalue": "ignored",
          "traceback": [
            "\u001b[0;36m  File \u001b[0;32m\"<ipython-input-19-e4c14292dcd5>\"\u001b[0;36m, line \u001b[0;32m6\u001b[0m\n\u001b[0;31m    Array2= np\\array([[1,2,3],\u001b[0m\n\u001b[0m               ^\u001b[0m\n\u001b[0;31mSyntaxError\u001b[0m\u001b[0;31m:\u001b[0m unexpected character after line continuation character\n"
          ]
        }
      ],
      "source": [
        "import numpy as np\n",
        "array1 = np.array([1,2,3])\n",
        "print('array1 type:', type(array1))\n",
        "print('array1 array 형태:', array1.shape)\n",
        "\n",
        "Array2= np\\array([[1,2,3],\n",
        "\t\t\t\t\t       [2,3,4]])\n",
        "print('array2 type:', type(array2))\n",
        "print('array2 array 형태:', array2.shape)"
      ]
    },
    {
      "cell_type": "code",
      "source": [
        "array3 = np.array([[1,2,3]])\n",
        "print('array3 type:', type(array3))\n",
        "print('array3 array 형태:', array3shpe)\n",
        "\n",
        "#Ndarray.shape는ndarray의 차원과 크기를 튜플 형태를 나타냄\n",
        "#[[1,2,3],[2,3,4]] array의 shape는(2,3) 2개 로우, 3개 칼럼으로 이해해면 됨\n",
        "print('arra1: {:0}차원, array2:  {:1}차원, array3: {:2}차원‘, format(array1.ndim, array2.ndim, array3.ndim))\n"
      ],
      "metadata": {
        "colab": {
          "base_uri": "https://localhost:8080/",
          "height": 164
        },
        "id": "h48bzkfXzp2K",
        "outputId": "0b7d0107-6293-40e8-9e29-cf306bdb5e6c"
      },
      "execution_count": 18,
      "outputs": [
        {
          "output_type": "error",
          "ename": "SyntaxError",
          "evalue": "ignored",
          "traceback": [
            "\u001b[0;36m  File \u001b[0;32m\"<ipython-input-18-fa74e0593520>\"\u001b[0;36m, line \u001b[0;32m7\u001b[0m\n\u001b[0;31m    print('arra1: {:0}차원, array2:  {:1}차원, array3: {:2}차원‘, format(array1.ndim, array2.ndim, array3.ndim))\u001b[0m\n\u001b[0m          ^\u001b[0m\n\u001b[0;31mSyntaxError\u001b[0m\u001b[0;31m:\u001b[0m unterminated string literal (detected at line 7)\n"
          ]
        }
      ]
    },
    {
      "cell_type": "code",
      "source": [
        "ndarray의 데이터 타입\n",
        "•\t숫자, 문자열, 불값 가능\n",
        "•\t숫자형 - int, unsigned int형, float형, complex타입\n",
        "•\t한 개의 ndarray에 int와 float가 함께 있을 수 없음\n",
        "\n",
        "Ndarray내의 데이터 타입 확인 - dtype 속성\n",
        "List1 =[1,2,3]\n",
        "Print(type(list1))\n",
        "Array1=np.array(list1)\n",
        "Print(type(array1))\n",
        "Print(array1, array1.dtype)\n",
        "Ndarray로 다른 데이터 유형 크기 더 큰 데이터 타입으로 형 변환\n",
        "list2 = [1,2, 'test']\n",
        "Array2=np.array(list2)\n",
        "Print(array2, array2.dtype)\n",
        "List3=[1,2,3,0]\n",
        "Array3=np.array(list3)\n",
        "Print(array3, array3.dtype)\n",
        "Astype()메서드를 이용해 데이터값의 타입 변경-메모리 절약용\n",
        "float -> int형 소수점 이하 없어짐\n",
        "Array_int =np.array([1,2,3])\n",
        "Array_float = array_int.astype('float64')\n",
        "Print(array_float, array_float.dtype)\n",
        "Array_int1=array_float.astype('int32')\n",
        "Print(array_int1, array_int1.dtype)\n",
        "Array_float1 = np.array([1.1,2.1,3.1])\n",
        "Array_int2 = array_float1.astype('int32')\n",
        "Print(array_int2, array_int2.dtype)\n",
        "\n",
        "Ndarray 쉽게 생성 - arange, zeros, ones\n",
        "테스트용으로 데이터 만들기, 대규모 데이터 일괄적으로 초기화\n",
        "arange()sms range()와 비슷\n",
        "Sequence_array = np.arrange(10)\n",
        "Print(sequency_array)\n",
        "Print(sequence_array.dtype, sequence_array.shape)\n",
        "\n",
        "Default 함수 인자 = stop 값\n",
        "0 ~ 9 1차원 ndarray\n",
        "zeros() 모든 값을. 0으로 채운 해당 shape를 가진 ndarray 반환\n",
        "default로 float64형의 데이터로 ndarray채움\n",
        "Zero_array = np.zeros(((3,2),dtype='int32'))\n",
        "Print(zero_array)\n",
        "Print(zero_array.dtype, zero_array.shape)\n",
        "One_array=np.ones((3,2))\n",
        "Print(one_array)\n",
        "Print(one_array.dtype, one_array.shape)\n",
        "\n",
        "Ndarray의 차원과 크기를 변경하는 reshape()\n",
        "Array1 = np.arange(10)\n",
        "Print('array1:\\n', array1)\n",
        "Array2 = array1.reshape(2,5)\n",
        "Print('array2:\\n', array2)\n",
        "Array3 = array1.reshape(5,2)\n",
        "Print('array3:\\n', array3)\n",
        "-1을 인자로 사용하는 경우\n",
        "array1 = np.arange(10)\n",
        "Print(array1)\n",
        "Array2=array1.reshape(-1,5)\n",
        "Print ('array2 shape:', array2.shape)\n",
        "Array3 = Array1.reshape(5,-1)\n",
        "Print('array3 shape:', array3.shape)"
      ],
      "metadata": {
        "id": "wvcZgoSB0lzq"
      },
      "execution_count": null,
      "outputs": []
    },
    {
      "cell_type": "code",
      "source": [
        "array1 =. Np.arange(8)\n",
        "Array3d = array1.reshape((2,2,2))\n",
        "Pritn('array3d:\\n', array3d.tolist())\n",
        "Array5 = array3d.reshape(-1,1)\n",
        "Print('array5:\\n', array5.tolist())\n",
        "Print('array5. Shape:', array5.shape)\n",
        "Array6 = array1..reshape(-1,1)\n",
        "Print('array6:\\n',  array6.tolist())\n",
        "Print('array6 shape:', array6.shape)\n",
        "\n",
        "넘파이의 ndarray의 데이터 세트 선택 - 인덱싱\n",
        "\n",
        "1) 특정 데이터만 추출\n",
        "2) 슬라이싱(연속된 인덱스상의 ndarray추출‘:’기호 사이에 시작 인덱스와 종료 인덱스를 표시하면 시작 인덱스에서 종료 인덱스 -1 위치에. 있는 데이터의 ndarray를 반환\n",
        "3) 팬시 인덱싱 : 일정한 인덱싱 집합을 리스트 또는 ndarray형태로 지정해 해당 위치에 있는 데이터의 ndarray를 반환\n",
        "4) 볼린 인덱싱 : 특정 조건에 해당하는지 여부인 t/f값 인덱싱 잡합 기반 t에 해당 위치에 있는 데이터의 ndarray를 반환\n",
        "\n",
        "단일 값 추출\n",
        "Ndarray 객체에 해당하는 위치의 인덱스 값을 []안에 입력\n",
        "arraÿ==np.arange(start=1, stop=10)\n",
        "Print('array1:', array1)\n",
        "Value=array1[2]\n",
        "Print('value:',  value)\n",
        "Print(type(value))\n",
        "인덱스에 마이너스 기호를 이용하면 맨 뒤에서부터 데이터를 추출.\n",
        "Print('맨뒤의값;‘, array1[-1], '맨. 뒤에서 두번째 값;’, arraÿ[-2])\n",
        "\n",
        "Array1[0]=9\n",
        "Array1[8]=0\n",
        "Print('array1:', array1)\n",
        "\n",
        "Array1d = np.arange(start=1, stop=10)\n",
        "Array2d = array1d.reshape(3,3)\n",
        "Print(array2d)\n",
        "\n",
        "print('(row=0, col=0) index ', array2d[0, 0])\n",
        "print('(row-0, col=1) index 가리키는 값: , array2d[0, 11)\n",
        "print('(row=1, col=0) index 가리키는 값:, array2d[1, 01)\n",
        "print('(row=2, col=2) index 가리키는 값:', array2d[2, 2])\n",
        "\n",
        "2차원으로 표현. axis0 - row , axis1 - col\n",
        "\n"
      ],
      "metadata": {
        "id": "ElhOHonL0tEf"
      },
      "execution_count": null,
      "outputs": []
    },
    {
      "cell_type": "code",
      "source": [
        "슬라이싱\n",
        "array1 = np.arange(start=1, stop=10)\n",
        "Array3. = array1[0:3]\n",
        "Print(array3)\n",
        "Print(type(array3))\n",
        "1.\t':' 기호앞에 시작 인덱스를 생략하면 자동으로 맨 처음 인덱스인 0으로 간주\n",
        "2. : 기호 뒤에 종료 인덱스를 생략하면 자동으로 맨 마지막 인덱스로 간주\n",
        "3. : 기호 앞/뒤에 시작/종료 인덱스를 생략하면 자동으로 맨 처음/맨 마지막 인덱스로 간주\n",
        "array1 = np.arange(start=1, stop=10)\n",
        "array4 = array1 [:31\n",
        "print (array4)\n",
        "array5 = array1 [3:]\n",
        "print(array5)\n",
        "array6 = array1[:]\n",
        "print(array6)\n",
        "\n",
        "2차원 ndarray에서 슬라이싱으로 데이터 접근\n",
        "array1d = np.arange(start=1, stop=10)\n",
        "array2d = array1d.reshape(3, 3)\n",
        "print('array2d:\\n', array2d)\n",
        "print('array2d[0:2, 0:2] \\n', array2d[0:2, 0:2])\n",
        "print('array2d[1:3, 0:3] \\n', array2d[1:3, 0:3])\n",
        "print('array2d[1:3, :] \\n', array2d[1:3, :])\n",
        "print('array2d[:, :] \\n', array2dl:, :])\n",
        "print('array2d[:2, 1:] \\n', array2d[:2, 1:])\n",
        "print ('array2d[:2, 0] \\n', array2d[:2, 0])\n",
        "\n",
        "array2d[0]처럼 2차원에서 뒤에 오는 인덱스를 없애면 로우 축의 첫번째 로우 ndarray를반환\n",
        "낮은 차원의 ndarray 반환\n",
        "print(array2d[0])\n",
        "print(array2d[1])\n",
        "print('array2d[0] shape:', array2d[0].shape, 'array2d[1] shape:', array2d[1].shape )\n",
        "\n",
        "팬시 인덱싱\n",
        "array1d = np.arange (start=1, stop=10)\n",
        "array2d = array1d.reshape(3, 3)\n",
        "array3 = array2d[(0, 1], 2]\n",
        "print('array2d[[o, 1], 2] => ', array3.tolist())\n",
        "array4 = array2d[[0, 1], 0:2]\n",
        "print('array2d[(0, 1], 0:2] => ', array4.tolist())\n",
        "array5 = array2d[[0, 1]]\n",
        "print('array2d[(0, 1]] => ', array5. tolist())"
      ],
      "metadata": {
        "id": "VFJfMjax04Fw"
      },
      "execution_count": null,
      "outputs": []
    },
    {
      "cell_type": "code",
      "source": [
        "불린 인덱싱\n",
        "조건 필터링과 검색을 동시에 할 수 없기 때문에 매우 자주 사용되는 인덱싱 방식\n",
        "1차원 ndarray[1,2,3,4,5,6,7,8,9]에서 데이터값이 5보다 큰 데이터만 추출하기\n",
        "array1d = np.arange(start=1, stop=10)\n",
        "# [ ] 안에 array1d > 5 Boolean indexing을 적용\n",
        "array3 = array1d[array1d > 5]\n",
        "print('array1d > 5 불린 인덱싱 결과 값 :', array3)\n",
        "넘파이 ndarray 객체에 조건식 할당\n",
        "Array1d>5\n",
        "-> t/f로 이뤄진 객체로 반환\n",
        "Ndarray 만들고 array1d[] 내에 인덱스로 입력하면 동일한 데이터 세트 반환\n",
        "boolean_indexes = np.array([False, False, False, False, False, True, True, True, True])\n",
        "array3 = array1d boolean_indexes]\n",
        "print('불린 인덱스로 필터링 결과 :‘ , array3)\n",
        "인덱싱이 동작하는 단계\n",
        "Step 1: array1d > 5와 같이 ndarray의 필터링 조건을 [] 안에 기재\n",
        "Step 2: False 값은 무시하고 True 값에 해당하는 인덱스값만 저장(유의해야 할 사항은 True값 자체인 1을 저장하는 것 이 아니라 True값을 가진 인덱스를 저장한다는 것입니다)\n",
        "Step 3: 저장된 인덱스 데이터 세트로 ndarray 조회\n",
        "내부 로직의 복합성에 비해 단순한 코딩\n",
        "\n",
        "행렬의 정렬 - sort()와 argsort()\n",
        "np.sort() - > 원 행렬은 그대로 유지한 채 원 행렬의 정렬된 행렬을 반환\n",
        "ndarray.sort() - > 원 행렬 자체를 정렬한 형태로 변환 반환 값은 none\n",
        "\n",
        "Org_array = np.array([3,1,9,5])\n",
        "Print('원본 행렬:‘,org_array)\n",
        "Sort_array1 = np.sort(org_array)\n",
        "Print('np.sort() 호출 후 반환된 정렬 행렬:’, sort_array1)\n",
        "print('np.sort( ) 호출 후 원본 행렬: , org_array)\n",
        "# ndarray.sort( )로 정렬\n",
        "sort_array2 = org_array.sort()\n",
        "print('org_array.sort( ) 호출 후 반환된 행렬: , sort_array2)\n",
        "print('org_array.sort( ) 호출 후 원본 행렬:', org_array)\n",
        "기본적으로 오름차순\n",
        "내림차순으로 정렬하기 위해서는 np.sort()[::-1] 적용\n",
        "행렬이 2차원 이상일 경우 axis 축 값 설정을 통해 로우 방향 or 칼럼 방향으로 정렬 수행\n",
        "array2d = np .array ([[8, 12],\n",
        "\t\t\t\t\t\t  [7, 1 ]])\n",
        "sort_array2d_axis0 = np.sort(array2d, axis=0)\n",
        "print('로우 방향으로 정렬: \\n', sort_array2d_axis0)\n",
        "sort_array2d_axis1 = np.sort (array2d, axis=1)\n",
        "print('칼럼 방향으로 정렬: \\n', sort_array2d_axis1)\n",
        "정렬된 행렬의 인덱스 반환하기\n",
        "np.argsort()는 정렬 행렬의 원본 행렬 인덱스를 ndarray 형으로 반환"
      ],
      "metadata": {
        "id": "msJ2Gyab0_eg"
      },
      "execution_count": null,
      "outputs": []
    },
    {
      "cell_type": "code",
      "source": [
        "org_array = np.array([ 3, 1, 9, 5])\n",
        "sort_indices = np.argsort(org_array)\n",
        "print (type(sort_indices))\n",
        "print('행렬 정렬 시 원본 행렬의 인덱스:', sort_indices)\n",
        "내림차순 정렬 시에 원본 행렬의 인덱스 구하기 np.argsort()[::-1]\n",
        "org_array = np.array([ 3, 1, 9, 5])\n",
        "sort_indices_desc = np.argsort(org_array)[::-1]\n",
        "print('행렬 내림차순 정렬 시 원본 행렬의 인덱스:', sort_indices_desc)\n",
        "\n",
        "넘파이에서 argsort()의 활용\n",
        "성적순으로 학생 이름 출력 - np.argsort(score_array)를 이용해 반환된 인덱스를 name_array에 팬시 인덱스로 적용해 추출\n",
        "import numpy as np\n",
        "name_array = np.array([ 'John', 'Mike', 'Sarah', 'Kate', 'Samuel'])\n",
        "score_array= np.array(l78, 95, 84, 98, 88])\n",
        "sort_indices_asc = np.argsort (score_array)\n",
        "print('성적 오름차순 정렬 시 score_array의 인덱스:', sort_indices_asc)\n",
        "print('성적 오름차순으로 name_array의 이름 출력:', name_array[sort_indices_ascl)\n",
        "\n",
        "선형대수 연산 - 행렬 내적과 전치 행렬 구하기\n",
        "행렬 내적 = 행렬곱\n",
        "두 행렬 A와 b의 내적은 np.dot() 이용해 계산 가능\n",
        "행렬 내적을 넘파이 dot()으로 구하기\n",
        "A = np.array( [[1, 2, 3],\n",
        "[4, 5, 6]] )\n",
        "B = np.array( [[7, 8],\n",
        "[9, 10],\n",
        "[11, 12]] )\n",
        "dot_product = np.dot(A,B)\n",
        "Print('행렬 내적 결과:\\n', dot_product)\n",
        "A = np.array (Il1, 2],\n",
        "(3, 4]])\n",
        "transpose_mat = np. transpose(A)\n",
        "print('A의 전치 행렬: In', transpose_mat)"
      ],
      "metadata": {
        "id": "3M-laUBn1CDQ"
      },
      "execution_count": null,
      "outputs": []
    },
    {
      "cell_type": "markdown",
      "source": [],
      "metadata": {
        "id": "88Q77zFHy85h"
      }
    },
    {
      "cell_type": "markdown",
      "source": [],
      "metadata": {
        "id": "1P6SIRvsy7D4"
      }
    }
  ]
}