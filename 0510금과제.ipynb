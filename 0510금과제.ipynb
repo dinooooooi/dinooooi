{
  "nbformat": 4,
  "nbformat_minor": 0,
  "metadata": {
    "colab": {
      "provenance": [],
      "authorship_tag": "ABX9TyPpDdEOc0+Cy9FRzlV5mXt3",
      "include_colab_link": true
    },
    "kernelspec": {
      "name": "python3",
      "display_name": "Python 3"
    },
    "language_info": {
      "name": "python"
    }
  },
  "cells": [
    {
      "cell_type": "markdown",
      "metadata": {
        "id": "view-in-github",
        "colab_type": "text"
      },
      "source": [
        "<a href=\"https://colab.research.google.com/github/dinooooooi/dinooooi/blob/main/0510%EA%B8%88%EA%B3%BC%EC%A0%9C.ipynb\" target=\"_parent\"><img src=\"https://colab.research.google.com/assets/colab-badge.svg\" alt=\"Open In Colab\"/></a>"
      ]
    },
    {
      "cell_type": "code",
      "source": [],
      "metadata": {
        "id": "Op9AxnOw2CFZ"
      },
      "execution_count": null,
      "outputs": []
    },
    {
      "cell_type": "markdown",
      "source": [
        "pg. 562~579\n",
        "\n",
        "\n",
        "#9. 추천 시스템\n",
        "##9-1. 추천 시스템의 개요와 배경\n",
        "\n",
        "추천 시스템을 도입함으로써 매출이 크게 상승\n",
        "\n",
        "###온라인 스토어의 필수 요소, 추천 시스템\n",
        "온라인 스토어의 고객과 상품관련 데이터로 추천시스템은 사용자가 상품을 구매하도록 유혹\n",
        "\n",
        "###추천 시스템의 유형\n",
        "\n",
        "콘텐츠 기반 필터링, 협업 필터링[최근접 이웃 협업, 잠재 요인 협업]\n",
        "\n",
        "##9-2. 콘텐츠 기반 필터링 추천 시스템\n",
        "사용자가 특정한 아이템을 매우 선호하는 경우, 그 아이템과 비슷한 콘텐츠를 가진 다른 아이템을 추천하는 방식\n",
        "\n",
        "\n",
        "##9-3. 최근접 이웃 협업 필터링\n",
        "사용자가 아이템에 매긴 평점 정보나 상품 구매 이력과 같은 사용자 행동 양식만을 기반으로 추천을 수행하는 것\n",
        "\n",
        "사용자-아이템 평점 매트릭스와 같은 축적된 사용자 행동 데이터를 기반으로 사용자가 아직 평가하지 않은 아이템을 예측 평가\n",
        "\n",
        "행: 사용자\n",
        "\n",
        "열: 아이템\n",
        "\n",
        "사용자-아이템 평점 행렬은 희소행렬 특성 가짐\n",
        "\n",
        "최근접 이웃 협업 필터링 = 메모리 협업 필터링\n",
        "\n",
        "- 사용자 기반: 특정 사용자와 타 사용자 간의 유사도를 측정한 뒤 가장 유사도가 높은 top-n 사용자를 추출해 그들이 선홯는 아이템을 추천\n",
        "\n",
        "= 아이템 기반 : 아이템이 가지는 속성과는 상관 없이 사용자들이 그 아이템을 좋아하는지/싫어하는지의 평가 척도가 유사한 아이템을 추천하는 기준이 되는 알고리즘\n",
        "\n",
        "아이템 기반 협업 필터링 정확도가 더 높음\n",
        "##9-4. 잠재 요인 협업 필터링\n",
        "###잠재 요인 협업 필터링의 이해\n",
        "사용자-아이템 평점 매트릭스 속에 숨어 있는 잠재 요인을 추출해 추천 예측하는 기법\n",
        "\n",
        "행렬 분해 : 대규모 다차원 행렬을 SVD와 같은 차원 감소 기법으로 분해하는 과정에서 잠재요인 추출\n",
        "\n",
        "저차원 밀집 행렬의 사용자-잠재요인 행렬과 아이템-잠재요인 행렬의 전치 행렬로 분해\n",
        "\n",
        "평점은 사용자의 특정 영화 장르에 대한 선호도와 개별 영화의 그 장르적 특성값을 반영해 결정되므로 두 특성 벡터를 곱해서 만들 수 있음\n",
        "\n",
        "###행렬 분해의 이해\n",
        ": 다차원 매트릭스를 저차원 매트릭스로 분해하는 기법\n",
        "\n",
        "ex> SVD, NMF\n",
        "\n",
        "SVD 방식은 널 값이 없는 행렬에만 적용할 수 있는데 널 값이 있는 경우 확률적 경사하강법이나 ALS 방식으로 SVD 수행\n",
        "\n",
        "###확률적 경사 하강법을 이용한 행렬 분해"
      ],
      "metadata": {
        "id": "axurLKAg2F69"
      }
    },
    {
      "cell_type": "code",
      "source": [
        "import numpy as np\n",
        "\n",
        "# 원본 행렬 R 생성, 분해 행렬 P와 Q 초기화, 잠재 요인 차원 K는 3으로 설정.\n",
        "R = np.array([[4, np.NaN, np.NaN, 2, np.NaN],\n",
        "              [np.NaN, 5, np.NaN, 3, 1],\n",
        "              [np.NaN, np.NaN, 3, 4, 4],\n",
        "              [5, 2, 1, 2, np.NaN]])\n",
        "num_users, num_items = R.shape\n",
        "K = 3\n",
        "\n",
        "# P와 Q 행렬의 크기를 지정하고 정규 분포를 가진 임의의 값 입력한다.\n",
        "np.random.seed(1)\n",
        "P = np.random.normal(scale = 1./K, size = (num_users, K))\n",
        "Q = np.random.normal(scale = 1./K, size = (num_items, K))"
      ],
      "metadata": {
        "id": "ibdA77ZY2apY"
      },
      "execution_count": null,
      "outputs": []
    },
    {
      "cell_type": "code",
      "source": [
        "from sklearn.metrics import mean_squared_error\n",
        "\n",
        "def get_rmse(R, P, Q, non_zeros):\n",
        "  error = 0\n",
        "\n",
        "  # 두 개의 분해된 행렬 P와 Q.T의 내적으로 예측 R 행렬 생성\n",
        "  full_pred_matrix = np.dot(P, Q.T)\n",
        "\n",
        "  # 실제 R 행렬에서 null이 아닌 값의 위치 인덱스를 추출해 실제 R 행렬과 예측 행렬의 RMSE 추출\n",
        "  x_non_zero_ind = [non_zero[0] for non_zero in non_zeros]\n",
        "  y_non_zero_ind = [non_zero[1] for non_zero in non_zeros]\n",
        "  R_non_zeros = R[x_non_zero_ind, y_non_zero_ind]\n",
        "  full_pred_matrix_non_zeros = full_pred_matrix[x_non_zero_ind, y_non_zero_ind]\n",
        "  mse = mean_squared_error(R_non_zeros, full_pred_matrix_non_zeros)\n",
        "  rmse = np.sqrt(mse)\n",
        "\n",
        "  return mse"
      ],
      "metadata": {
        "id": "VZga8oDs2eAV"
      },
      "execution_count": null,
      "outputs": []
    },
    {
      "cell_type": "code",
      "source": [
        "# R > 0 인 행 위치, 열 위치, 값을 non_zeros 리스트에 저장\n",
        "non_zeros = [(i, j, R[i,j]) for i in range(num_users) for j in range(num_items) if R[i,j] >0]\n",
        "\n",
        "steps = 1000\n",
        "learning_rate = 0.01\n",
        "r_lambda = 0.01\n",
        "\n",
        "# SGD 기법으로 P와 Q 매트릭스를 계속 업데이트\n",
        "for step in range(steps):\n",
        "  for i, j, r in non_zeros:\n",
        "\n",
        "    # 실제 값과 예측 값의 차이인 오류 값을 구한다.\n",
        "    eij = r - np.dot(P[i,:], Q[j,:].T)\n",
        "\n",
        "    # Regularization을 반영한 SGD 업데이트 공식 적용\n",
        "    P[i,:] = P[i,:] + learning_rate*(eij*Q[j,:] - r_lambda*P[i,:])\n",
        "    Q[i,:] = Q[i,:] + learning_rate*(eij*P[i,:] - r_lambda*Q[j,:])\n",
        "\n",
        "  rmse = get_rmse(R, P, Q, non_zeros)\n",
        "  if (step % 50) == 0:\n",
        "    print('### iteration step : ', step, \"rmse : \",rmse)"
      ],
      "metadata": {
        "colab": {
          "base_uri": "https://localhost:8080/"
        },
        "id": "kLqTSNic2h_1",
        "outputId": "7c162972-1d3b-4caf-b01e-74f1378e7c23"
      },
      "execution_count": null,
      "outputs": [
        {
          "output_type": "stream",
          "name": "stdout",
          "text": [
            "### iteration step :  0 rmse :  10.47522280446722\n",
            "### iteration step :  50 rmse :  3.418585982566469\n",
            "### iteration step :  100 rmse :  3.273734855096425\n",
            "### iteration step :  150 rmse :  3.464220850838796\n",
            "### iteration step :  200 rmse :  3.4322385531999733\n",
            "### iteration step :  250 rmse :  3.3864046022230117\n",
            "### iteration step :  300 rmse :  3.27191594953962\n",
            "### iteration step :  350 rmse :  3.5611823070899007\n",
            "### iteration step :  400 rmse :  3.5730741261624885\n",
            "### iteration step :  450 rmse :  3.5555201049264924\n",
            "### iteration step :  500 rmse :  3.5425397660106603\n",
            "### iteration step :  550 rmse :  3.5704393570420603\n",
            "### iteration step :  600 rmse :  3.6452169448009655\n",
            "### iteration step :  650 rmse :  3.722272244280297\n",
            "### iteration step :  700 rmse :  3.7134141829891543\n",
            "### iteration step :  750 rmse :  3.1486523640340036\n",
            "### iteration step :  800 rmse :  3.8211742690886097\n",
            "### iteration step :  850 rmse :  3.7096692914597043\n",
            "### iteration step :  900 rmse :  3.7531498311026827\n",
            "### iteration step :  950 rmse :  3.892945147497157\n"
          ]
        }
      ]
    },
    {
      "cell_type": "code",
      "source": [
        "pred_matrix = np.dot(P, Q.T)\n",
        "print('예측 행렬 : \\n', np.round(pred_matrix, 3))"
      ],
      "metadata": {
        "id": "Fto6WHw42kho",
        "outputId": "1c9909a5-329c-405f-93ee-654941d013f7",
        "colab": {
          "base_uri": "https://localhost:8080/"
        }
      },
      "execution_count": null,
      "outputs": [
        {
          "output_type": "stream",
          "name": "stdout",
          "text": [
            "예측 행렬 : \n",
            " [[  3.969 -17.204  16.879   2.011   0.496]\n",
            " [ -0.413   4.97   -1.872   3.044   0.075]\n",
            " [  0.892   0.247   3.106   4.226   0.271]\n",
            " [  0.316  -0.13   -1.4    -0.745   0.072]]\n"
          ]
        }
      ]
    }
  ]
}